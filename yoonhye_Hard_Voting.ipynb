{
 "cells": [
  {
   "cell_type": "markdown",
   "id": "dd1342fd-2886-473a-a4f0-e273528f8589",
   "metadata": {},
   "source": [
    "# Hard Voting"
   ]
  },
  {
   "cell_type": "code",
   "execution_count": 1,
   "id": "cf1d4a7f-a8cb-422e-b315-5d7490cbc09e",
   "metadata": {},
   "outputs": [],
   "source": [
    "import numpy as np\n",
    "import pandas as pd\n",
    "from glob import glob"
   ]
  },
  {
   "cell_type": "code",
   "execution_count": null,
   "id": "5c40e9b9-80e3-4114-b029-3ddacd16948b",
   "metadata": {},
   "outputs": [],
   "source": [
    "outputs = glob('submission.csv 파일들 위치/*')\n",
    "print(len(outputs))"
   ]
  },
  {
   "cell_type": "code",
   "execution_count": null,
   "id": "72a15c1b-6d8f-4c84-aa08-d6536481e4a4",
   "metadata": {},
   "outputs": [],
   "source": [
    "new_input = []\n",
    "for output in outputs:\n",
    "    df = pd.read_csv(output)\n",
    "    new_input.append(list(df['ans']))\n",
    "new_input = np.transpose(new_input)\n",
    "new_input.shape"
   ]
  },
  {
   "cell_type": "code",
   "execution_count": null,
   "id": "b836b270-adca-4eb4-9619-5d24269c31b6",
   "metadata": {},
   "outputs": [],
   "source": [
    "new_input[:10]"
   ]
  },
  {
   "cell_type": "code",
   "execution_count": null,
   "id": "668999ce-661b-4856-8a5a-5dc80fe8dd5f",
   "metadata": {},
   "outputs": [],
   "source": [
    "result = []\n",
    "for data in new_input:\n",
    "    result.append(max(data, key=list(data).count))"
   ]
  },
  {
   "cell_type": "code",
   "execution_count": null,
   "id": "3676c77a-ead7-48bb-a2ba-103742af3905",
   "metadata": {},
   "outputs": [],
   "source": [
    "submission = pd.read_csv('info.csv')\n",
    "submission['ans'] = result\n",
    "\n",
    "submission.to_csv('./hard_voting.csv', index=False)"
   ]
  }
 ],
 "metadata": {
  "kernelspec": {
   "display_name": "Python 3 (ipykernel)",
   "language": "python",
   "name": "python3"
  },
  "language_info": {
   "codemirror_mode": {
    "name": "ipython",
    "version": 3
   },
   "file_extension": ".py",
   "mimetype": "text/x-python",
   "name": "python",
   "nbconvert_exporter": "python",
   "pygments_lexer": "ipython3",
   "version": "3.8.5"
  }
 },
 "nbformat": 4,
 "nbformat_minor": 5
}
