{
 "cells": [
  {
   "cell_type": "code",
   "execution_count": 382,
   "id": "c0708766-cd19-456e-a9ce-5b001dbfa21d",
   "metadata": {},
   "outputs": [],
   "source": [
    "import numpy as np\n",
    "import pandas as pd\n",
    "from glob import glob\n",
    "import pickle as pickle"
   ]
  },
  {
   "cell_type": "code",
   "execution_count": 383,
   "id": "44d47567-95be-462b-902d-7a03aeb9cd88",
   "metadata": {},
   "outputs": [
    {
     "name": "stdout",
     "output_type": "stream",
     "text": [
      "/opt/ml/week12\n"
     ]
    }
   ],
   "source": [
    "!pwd"
   ]
  },
  {
   "cell_type": "code",
   "execution_count": 384,
   "id": "952edadb-19a3-47a1-a3ee-052fe7bb4895",
   "metadata": {},
   "outputs": [
    {
     "name": "stdout",
     "output_type": "stream",
     "text": [
      "9\n",
      "['/opt/ml/week12/submission_csv/output (7).csv', '/opt/ml/week12/submission_csv/output (8).csv', '/opt/ml/week12/submission_csv/output (5).csv', '/opt/ml/week12/submission_csv/output (2).csv', '/opt/ml/week12/submission_csv/output (4).csv', '/opt/ml/week12/submission_csv/output.csv', '/opt/ml/week12/submission_csv/output (1).csv', '/opt/ml/week12/submission_csv/output (6).csv', '/opt/ml/week12/submission_csv/output (3).csv']\n"
     ]
    }
   ],
   "source": [
    "# csv 파일들 저장한 위치\n",
    "outputs = glob('/opt/ml/week12/submission_csv/*')\n",
    "print(len(outputs))\n",
    "print(outputs)"
   ]
  },
  {
   "cell_type": "code",
   "execution_count": 385,
   "id": "9b2bc3af-7a35-40c7-be1d-23785566af73",
   "metadata": {},
   "outputs": [
    {
     "data": {
      "text/plain": [
       "(7765, 9)"
      ]
     },
     "execution_count": 385,
     "metadata": {},
     "output_type": "execute_result"
    }
   ],
   "source": [
    "new_input = list()\n",
    "for output in outputs:\n",
    "    df = pd.read_csv(output)\n",
    "    new_input.append(list(df['probs']))\n",
    "new_input = np.transpose(new_input)\n",
    "new_input.shape"
   ]
  },
  {
   "cell_type": "code",
   "execution_count": 386,
   "id": "7c9c31c1-d239-43a2-8528-0ac6b1499992",
   "metadata": {},
   "outputs": [
    {
     "name": "stdout",
     "output_type": "stream",
     "text": [
      "['[0.2084669753909111, 0.012976399040780962, 0.25689532794058323, 0.4484390392899513, 0.0010119801212567837, 0.031154373614117502, 0.0015603173873387278, 0.00721393603598699, 0.00249979275977239, 0.0016949073149589821, 0.0015844475012272597, 0.0013996046589454636, 0.0011444430710980669, 0.0007288527987839189, 0.0006697284581605345, 0.0006515495988423936, 0.0007483820954803377, 0.0007015382012468763, 0.0011968621191044803, 0.004485232074512169, 0.006818126630969345, 0.0006532177911140024, 0.0011371882079401984, 0.0005188680486753583, 0.0005859542492544278, 0.0007705642405198887, 0.0005562678139540367, 0.0005983116541756317, 0.0024725731811486183, 0.0006652107556874398]'\n",
      " '[0.21555605563256752, 0.013468074777991118, 0.2580896854410564, 0.4278905161791344, 0.001011288105585765, 0.04142163274950049, 0.0014940539726086561, 0.0070665743345654, 0.002736187810353321, 0.0016472720007879422, 0.001535179979801058, 0.0011916029825129197, 0.0011957269691029188, 0.0007573352303155746, 0.0006519878813291287, 0.0006306122352153778, 0.0007505408671376016, 0.0007103997711388278, 0.001322365011698068, 0.004810885890379771, 0.007919528525529733, 0.000667222372435593, 0.0010791445738141756, 0.000520070749858391, 0.0005869172268723981, 0.0007769796323600759, 0.0005388603264909837, 0.0006005563138806186, 0.0026856200229385934, 0.0006974317608422332]'\n",
      " '[0.21090403199195862, 0.01253589247353375, 0.2586566433310509, 0.4426604241132736, 0.0010052739991806448, 0.03334228722378611, 0.0014737953431904316, 0.006744530494324863, 0.0023909439798444508, 0.0015779233013745396, 0.0016542220255360007, 0.0011848133523017167, 0.0011754826118703932, 0.0007877205629483796, 0.0006808449979871511, 0.0006478384646470658, 0.0007752920791972429, 0.0007598169206175954, 0.0013502208530553617, 0.004815576074179262, 0.006872530654072761, 0.0006533962761750445, 0.0010496408329345285, 0.0005248760775430128, 0.0005848729546414688, 0.0007591632427647709, 0.0005550938221858814, 0.0006174804409965872, 0.002516037900932133, 0.0007433065547957085]'\n",
      " '[0.2537909232168331, 0.012196888995577446, 0.2857391521805007, 0.3541681727673679, 0.0007638501422885931, 0.049735976485165256, 0.001001736548413293, 0.006019786377127385, 0.0023086166561956806, 0.0018242944471224935, 0.0011627667512778173, 0.000537791946449585, 0.0009167523607299207, 0.0006934405986291146, 0.0005682031174008513, 0.0005029882438254829, 0.0006026790033293781, 0.0006598699026368134, 0.0013145646733011603, 0.00602102230747768, 0.012413834691848645, 0.0004909722145266411, 0.0007553680951941895, 0.0004526798008748088, 0.0005345744331551968, 0.00058629391895202, 0.00041546631670810264, 0.0004785070599009241, 0.0026685818497936328, 0.000672118071983021]'\n",
      " '[0.22582531584966245, 0.015007253377179517, 0.2277596063961562, 0.4408143257465458, 0.000981364731356333, 0.04756279462718774, 0.0014038082920166878, 0.006438258490189151, 0.002970101860330164, 0.0013194407493582663, 0.001618577271256927, 0.0007013990162045812, 0.0012040936967151225, 0.0007882429513137562, 0.0006397462132118372, 0.0005912759892322435, 0.0007513419287482746, 0.000752903290124552, 0.0015667478341409686, 0.00504350107974484, 0.008280119598947118, 0.000645563815511302, 0.0008206602124121764, 0.0004995381704042496, 0.0005339457404636336, 0.0006718889111881483, 0.0004712920672500716, 0.0005785334579106046, 0.0030629185005138036, 0.0007470854510135074]'\n",
      " '[0.2265540361404419, 0.013403923390433193, 0.2920028369873762, 0.35332113727927206, 0.0010391354328021408, 0.0660822482779622, 0.0013855094090104102, 0.007252805074676872, 0.0032114589121192694, 0.0018321973097044975, 0.0013039801240665838, 0.0010578019195236267, 0.001341211935505271, 0.0008118748039123603, 0.0006110078189522028, 0.0006071363903174642, 0.0007562161204987206, 0.0006944809618289582, 0.001454490867035929, 0.005555232148617506, 0.010863143135793507, 0.0007308946733246557, 0.0011634980328381062, 0.0005442114328616299, 0.0006427776461350732, 0.0009013165290525649, 0.0005542061233427375, 0.0006293131489655934, 0.0029474620707333086, 0.000744441086135339]'\n",
      " '[0.24982120310738476, 0.014338554834591035, 0.2966944417175324, 0.3428725884773633, 0.001002239013641353, 0.05014406276196871, 0.001381506984601209, 0.007016049305374416, 0.0025305437096333028, 0.0018097634479085963, 0.0014093505685006222, 0.0008432896197687336, 0.0012039305307105178, 0.0007717030811193548, 0.000669588824852997, 0.0006166506888043173, 0.0007194358696441332, 0.0007501723101492554, 0.0014033872903118924, 0.00552955486885426, 0.010419248117306032, 0.0006252116478236098, 0.0009334653111422193, 0.0005063070889001515, 0.000592543389401075, 0.0007129885363245549, 0.0004795430103550511, 0.0005406990199373587, 0.002957122896852285, 0.0007048539692423841]'\n",
      " '[0.2060299187898636, 0.013416905608028173, 0.2551340125501156, 0.45421765446662904, 0.0010186862433329224, 0.028966460004448892, 0.0016468394314870238, 0.007683341577649117, 0.0026086415397003292, 0.0018118913285434246, 0.0015146729769185186, 0.0016143959655892104, 0.0011134035303257406, 0.000669985034619458, 0.0006586119183339178, 0.0006552607330377214, 0.0007214721117634326, 0.0006432594818761572, 0.001043503385153599, 0.004154888074845075, 0.006763722607865929, 0.0006530393060529604, 0.0012247355829458685, 0.0005128600198077038, 0.0005870355438673869, 0.0007819652382750064, 0.000557441805722192, 0.0005791428673546761, 0.002429108461365104, 0.0005871149565791711]'\n",
      " '[0.055117309259441714, 0.0033865647599969724, 0.06453458860788071, 0.102109889231169, 0.0003022896109693265, 0.01214294595682982, 0.0004137608169742766, 0.0018998533107792315, 0.0007158088052850507, 0.0004693982452620146, 0.0003546752958517558, 0.00026983707120089196, 0.00033490179951947815, 0.0001895608111684427, 0.00018663027626568746, 0.00017539245729145402, 0.0001863865228463343, 0.00019878944562719283, 0.00033691867074115507, 0.0012234376969353362, 0.002393559214933622, 0.00017426796878584712, 0.0002682715713682361, 0.00013476387769621213, 0.00014777099127088051, 0.00019281155674663128, 0.0001258382592561478, 0.00013649596234600083, 0.0008034671638825093, 0.00016624767323170355]']\n",
      "<class 'numpy.ndarray'>\n"
     ]
    }
   ],
   "source": [
    "print(new_input[0])\n",
    "print(type(new_input[0]))"
   ]
  },
  {
   "cell_type": "code",
   "execution_count": 387,
   "id": "d75f571b-91e1-4ad8-b903-5194db5bcf5c",
   "metadata": {},
   "outputs": [
    {
     "data": {
      "text/plain": [
       "7765"
      ]
     },
     "execution_count": 387,
     "metadata": {},
     "output_type": "execute_result"
    }
   ],
   "source": [
    "len(new_input)"
   ]
  },
  {
   "cell_type": "code",
   "execution_count": 388,
   "id": "c42f2c86-2f3c-4a7b-b97a-65a54093cf17",
   "metadata": {},
   "outputs": [
    {
     "name": "stdout",
     "output_type": "stream",
     "text": [
      "[0.2245158936336835, 0.013423253091118047, 0.26614932686745085, 0.4081017880898258, 0.000986296196336467, 0.04370785925860652, 0.0014257620607088166, 0.006950427616617441, 0.002663558096838285, 0.0016955788752930092, 0.0014714084861110394, 0.001066841338313715, 0.0011673862133250027, 0.0007514367235629596, 0.0006468967236481655, 0.0006156638526548762, 0.0007287714519699057, 0.0007117374210005223, 0.001332144260245335, 0.005047710285572433, 0.008818338145351807, 0.0006417369884525228, 0.0010221623089216568, 0.000510861623575986, 0.0005814406233330396, 0.0007460126429122675, 0.0005156905172442379, 0.0005769126125920739, 0.002732752603584462, 0.00069435139114938]\n",
      "0.9999999999999998\n",
      "[0.13463971719761095, 0.002005278670446372, 0.0008105213163966313, 0.0013734322970274865, 0.29002265378668485, 0.007981255266420635, 0.014109601799322868, 0.0013020403154760743, 0.006303757789108849, 0.00048412595465963505, 0.0031590781854897677, 0.002271535127745198, 0.4826606641743346, 0.0023295188361852947, 0.0037495510849592044, 0.008570087611764912, 0.002510208393897209, 0.013501988627238537, 0.0009420539303752689, 0.00038778855958016315, 0.0014591772942544401, 0.009430962671665943, 0.0003764160250142277, 0.0007799165009855631, 0.0009561224212652413, 0.00239893748599709, 0.00318175686427703, 0.0006215002885061187, 0.0007872358289720531, 0.0008931156943379504]\n",
      "1.0000000000000002\n"
     ]
    }
   ],
   "source": [
    "\n",
    "# 각 csv 파일의 같은 문장에 대한 확률값 모두 뽑아오기\n",
    "ans_list = list()\n",
    "for row_data in new_input:\n",
    "    # str로 뭉쳐져 있는 데이터를 np로 split\n",
    "    row_data = np.split(row_data, len(row_data))\n",
    "    \n",
    "    # 클래스 갯수는 30개\n",
    "    class_num = 30\n",
    "    # 30개 클래스 값을 단순 누적으로 더할 list 선언\n",
    "    temp_list = [0] * class_num\n",
    "    # n개의 csv 파일에 대해 탐색\n",
    "    for i in range(len(row_data)):\n",
    "        # str 데이터를 list 형태로 변환\n",
    "        temp_data = row_data[i][0].replace('[', '').replace(']', '').strip().split(', ')\n",
    "        # 각 값마다 알맞은 class의 확률 값에 더해줌\n",
    "        for idx, temp in enumerate(temp_data):\n",
    "            temp_list[idx] += float(temp)\n",
    "    \n",
    "    # 단순 누적한 합을 csv파일 갯수로 나누어 평균을 구함.\n",
    "    row_len = len(row_data)\n",
    "    for i in range(class_num):\n",
    "        temp_list[i] /= (row_len) # 요기에\n",
    "        \n",
    "    sum_num = sum(temp_list[:])\n",
    "    for i in range(class_num):\n",
    "        temp_list[i] /= sum_num\n",
    "    \n",
    "    ans_list.append(temp_list[:])\n",
    "\n",
    "for i in range(2):\n",
    "    print(ans_list[i])\n",
    "    print(sum(ans_list[i])) # 요기 출력되는 값을 위에 곱해주기\n",
    "        \n",
    "        "
   ]
  },
  {
   "cell_type": "code",
   "execution_count": 389,
   "id": "6998e830-95be-4b81-8bee-214b862b1a8e",
   "metadata": {},
   "outputs": [
    {
     "name": "stdout",
     "output_type": "stream",
     "text": [
      "7765\n"
     ]
    }
   ],
   "source": [
    "print(len(ans_list))"
   ]
  },
  {
   "cell_type": "code",
   "execution_count": 390,
   "id": "598ba12e-85d3-466e-b0b5-8694875dcbab",
   "metadata": {},
   "outputs": [],
   "source": [
    "def num_to_label(label):\n",
    "    num_label = []\n",
    "    with open('dict_num_to_label.pkl', 'rb') as f:\n",
    "        dict_num_to_label = pickle.load(f)\n",
    "    for v in label:\n",
    "        num_label.append(dict_num_to_label[v.index(max(v))])\n",
    "    \n",
    "    return num_label\n"
   ]
  },
  {
   "cell_type": "code",
   "execution_count": 391,
   "id": "acbaad61-7b23-4f91-8eee-28ae92c1b57a",
   "metadata": {},
   "outputs": [
    {
     "name": "stdout",
     "output_type": "stream",
     "text": [
      "{0: 'no_relation', 1: 'org:top_members/employees', 2: 'org:members', 3: 'org:product', 4: 'per:title', 5: 'org:alternate_names', 6: 'per:employee_of', 7: 'org:place_of_headquarters', 8: 'per:product', 9: 'org:number_of_employees/members', 10: 'per:children', 11: 'per:place_of_residence', 12: 'per:alternate_names', 13: 'per:other_family', 14: 'per:colleagues', 15: 'per:origin', 16: 'per:siblings', 17: 'per:spouse', 18: 'org:founded', 19: 'org:political/religious_affiliation', 20: 'org:member_of', 21: 'per:parents', 22: 'org:dissolved', 23: 'per:schools_attended', 24: 'per:date_of_death', 25: 'per:date_of_birth', 26: 'per:place_of_birth', 27: 'per:place_of_death', 28: 'org:founded_by', 29: 'per:religion'}\n"
     ]
    }
   ],
   "source": [
    "print(dict_num_to_label)"
   ]
  },
  {
   "cell_type": "code",
   "execution_count": 392,
   "id": "9182d69f-089e-47ee-b0c6-884c8adff2c0",
   "metadata": {},
   "outputs": [
    {
     "name": "stdout",
     "output_type": "stream",
     "text": [
      "['org:product', 'per:alternate_names', 'no_relation', 'no_relation', 'org:top_members/employees', 'no_relation', 'per:employee_of', 'per:spouse', 'org:members', 'org:top_members/employees']\n"
     ]
    }
   ],
   "source": [
    "pred_list = num_to_label(ans_list)\n",
    "print(pred_list[:10])"
   ]
  },
  {
   "cell_type": "code",
   "execution_count": 393,
   "id": "e2973b3c-1348-4092-98d7-1640aab8cb29",
   "metadata": {},
   "outputs": [
    {
     "name": "stdout",
     "output_type": "stream",
     "text": [
      "        id                 pred_label  \\\n",
      "0        0                org:product   \n",
      "1        1        per:alternate_names   \n",
      "2        2                no_relation   \n",
      "3        3                no_relation   \n",
      "4        4  org:top_members/employees   \n",
      "...    ...                        ...   \n",
      "7760  7760  org:place_of_headquarters   \n",
      "7761  7761                no_relation   \n",
      "7762  7762  org:top_members/employees   \n",
      "7763  7763                no_relation   \n",
      "7764  7764                no_relation   \n",
      "\n",
      "                                                  probs  \n",
      "0     [0.2245158936336835, 0.013423253091118047, 0.2...  \n",
      "1     [0.13463971719761095, 0.002005278670446372, 0....  \n",
      "2     [0.9271128776339415, 0.0006853808696900057, 0....  \n",
      "3     [0.7093068842258528, 0.0010584573989943103, 0....  \n",
      "4     [0.4740838330468189, 0.5013405460908716, 0.002...  \n",
      "...                                                 ...  \n",
      "7760  [0.3565035032027967, 0.005115440156177851, 0.0...  \n",
      "7761  [0.9359692144318709, 0.004345709829056737, 0.0...  \n",
      "7762  [0.024936764785150122, 0.9569508719848857, 0.0...  \n",
      "7763  [0.8116547529125016, 0.0010736590002040673, 0....  \n",
      "7764  [0.9404023079331829, 0.0027065814476990345, 0....  \n",
      "\n",
      "[7765 rows x 3 columns]\n"
     ]
    }
   ],
   "source": [
    "submission = pd.read_csv('info.csv')\n",
    "submission['pred_label'] = pred_list\n",
    "submission['probs'] = ans_list\n",
    "print(submission)\n",
    "\n",
    "submission.to_csv('./soft_voting.csv', index=False)"
   ]
  },
  {
   "cell_type": "code",
   "execution_count": null,
   "id": "c2f5460a-364d-4615-b416-5863e341cd8e",
   "metadata": {},
   "outputs": [
    {
     "ename": "KeyError",
     "evalue": "'info'",
     "output_type": "error",
     "traceback": [
      "\u001b[0;31m---------------------------------------------------------------------------\u001b[0m",
      "\u001b[0;31mKeyError\u001b[0m                                  Traceback (most recent call last)",
      "\u001b[0;32m/opt/conda/lib/python3.8/site-packages/pandas/core/indexes/base.py\u001b[0m in \u001b[0;36mget_loc\u001b[0;34m(self, key, method, tolerance)\u001b[0m\n\u001b[1;32m   2897\u001b[0m             \u001b[0;32mtry\u001b[0m\u001b[0;34m:\u001b[0m\u001b[0;34m\u001b[0m\u001b[0;34m\u001b[0m\u001b[0m\n\u001b[0;32m-> 2898\u001b[0;31m                 \u001b[0;32mreturn\u001b[0m \u001b[0mself\u001b[0m\u001b[0;34m.\u001b[0m\u001b[0m_engine\u001b[0m\u001b[0;34m.\u001b[0m\u001b[0mget_loc\u001b[0m\u001b[0;34m(\u001b[0m\u001b[0mcasted_key\u001b[0m\u001b[0;34m)\u001b[0m\u001b[0;34m\u001b[0m\u001b[0;34m\u001b[0m\u001b[0m\n\u001b[0m\u001b[1;32m   2899\u001b[0m             \u001b[0;32mexcept\u001b[0m \u001b[0mKeyError\u001b[0m \u001b[0;32mas\u001b[0m \u001b[0merr\u001b[0m\u001b[0;34m:\u001b[0m\u001b[0;34m\u001b[0m\u001b[0;34m\u001b[0m\u001b[0m\n",
      "\u001b[0;32mpandas/_libs/index.pyx\u001b[0m in \u001b[0;36mpandas._libs.index.IndexEngine.get_loc\u001b[0;34m()\u001b[0m\n",
      "\u001b[0;32mpandas/_libs/index.pyx\u001b[0m in \u001b[0;36mpandas._libs.index.IndexEngine.get_loc\u001b[0;34m()\u001b[0m\n",
      "\u001b[0;32mpandas/_libs/hashtable_class_helper.pxi\u001b[0m in \u001b[0;36mpandas._libs.hashtable.PyObjectHashTable.get_item\u001b[0;34m()\u001b[0m\n",
      "\u001b[0;32mpandas/_libs/hashtable_class_helper.pxi\u001b[0m in \u001b[0;36mpandas._libs.hashtable.PyObjectHashTable.get_item\u001b[0;34m()\u001b[0m\n",
      "\u001b[0;31mKeyError\u001b[0m: 'info'",
      "\nThe above exception was the direct cause of the following exception:\n",
      "\u001b[0;31mKeyError\u001b[0m                                  Traceback (most recent call last)",
      "\u001b[0;32m<ipython-input-400-19405f9acef5>\u001b[0m in \u001b[0;36m<module>\u001b[0;34m\u001b[0m\n\u001b[1;32m      1\u001b[0m \u001b[0msubmission\u001b[0m \u001b[0;34m=\u001b[0m \u001b[0mpd\u001b[0m\u001b[0;34m.\u001b[0m\u001b[0mread_csv\u001b[0m\u001b[0;34m(\u001b[0m\u001b[0;34m'soft_voting.csv'\u001b[0m\u001b[0;34m)\u001b[0m\u001b[0;34m\u001b[0m\u001b[0;34m\u001b[0m\u001b[0m\n\u001b[1;32m      2\u001b[0m \u001b[0;31m# print(submission)\u001b[0m\u001b[0;34m\u001b[0m\u001b[0;34m\u001b[0m\u001b[0;34m\u001b[0m\u001b[0m\n\u001b[0;32m----> 3\u001b[0;31m \u001b[0;32mfor\u001b[0m \u001b[0mnums\u001b[0m \u001b[0;32min\u001b[0m \u001b[0msubmission\u001b[0m\u001b[0;34m[\u001b[0m\u001b[0;34m'info'\u001b[0m\u001b[0;34m]\u001b[0m\u001b[0;34m:\u001b[0m\u001b[0;34m\u001b[0m\u001b[0;34m\u001b[0m\u001b[0m\n\u001b[0m\u001b[1;32m      4\u001b[0m     \u001b[0;32mfor\u001b[0m \u001b[0mnum\u001b[0m \u001b[0;32min\u001b[0m \u001b[0mnums\u001b[0m\u001b[0;34m:\u001b[0m\u001b[0;34m\u001b[0m\u001b[0;34m\u001b[0m\u001b[0m\n\u001b[1;32m      5\u001b[0m         \u001b[0;32mif\u001b[0m \u001b[0mnum\u001b[0m \u001b[0;34m==\u001b[0m \u001b[0;32mNone\u001b[0m\u001b[0;34m:\u001b[0m\u001b[0;34m\u001b[0m\u001b[0;34m\u001b[0m\u001b[0m\n",
      "\u001b[0;32m/opt/conda/lib/python3.8/site-packages/pandas/core/frame.py\u001b[0m in \u001b[0;36m__getitem__\u001b[0;34m(self, key)\u001b[0m\n\u001b[1;32m   2904\u001b[0m             \u001b[0;32mif\u001b[0m \u001b[0mself\u001b[0m\u001b[0;34m.\u001b[0m\u001b[0mcolumns\u001b[0m\u001b[0;34m.\u001b[0m\u001b[0mnlevels\u001b[0m \u001b[0;34m>\u001b[0m \u001b[0;36m1\u001b[0m\u001b[0;34m:\u001b[0m\u001b[0;34m\u001b[0m\u001b[0;34m\u001b[0m\u001b[0m\n\u001b[1;32m   2905\u001b[0m                 \u001b[0;32mreturn\u001b[0m \u001b[0mself\u001b[0m\u001b[0;34m.\u001b[0m\u001b[0m_getitem_multilevel\u001b[0m\u001b[0;34m(\u001b[0m\u001b[0mkey\u001b[0m\u001b[0;34m)\u001b[0m\u001b[0;34m\u001b[0m\u001b[0;34m\u001b[0m\u001b[0m\n\u001b[0;32m-> 2906\u001b[0;31m             \u001b[0mindexer\u001b[0m \u001b[0;34m=\u001b[0m \u001b[0mself\u001b[0m\u001b[0;34m.\u001b[0m\u001b[0mcolumns\u001b[0m\u001b[0;34m.\u001b[0m\u001b[0mget_loc\u001b[0m\u001b[0;34m(\u001b[0m\u001b[0mkey\u001b[0m\u001b[0;34m)\u001b[0m\u001b[0;34m\u001b[0m\u001b[0;34m\u001b[0m\u001b[0m\n\u001b[0m\u001b[1;32m   2907\u001b[0m             \u001b[0;32mif\u001b[0m \u001b[0mis_integer\u001b[0m\u001b[0;34m(\u001b[0m\u001b[0mindexer\u001b[0m\u001b[0;34m)\u001b[0m\u001b[0;34m:\u001b[0m\u001b[0;34m\u001b[0m\u001b[0;34m\u001b[0m\u001b[0m\n\u001b[1;32m   2908\u001b[0m                 \u001b[0mindexer\u001b[0m \u001b[0;34m=\u001b[0m \u001b[0;34m[\u001b[0m\u001b[0mindexer\u001b[0m\u001b[0;34m]\u001b[0m\u001b[0;34m\u001b[0m\u001b[0;34m\u001b[0m\u001b[0m\n",
      "\u001b[0;32m/opt/conda/lib/python3.8/site-packages/pandas/core/indexes/base.py\u001b[0m in \u001b[0;36mget_loc\u001b[0;34m(self, key, method, tolerance)\u001b[0m\n\u001b[1;32m   2898\u001b[0m                 \u001b[0;32mreturn\u001b[0m \u001b[0mself\u001b[0m\u001b[0;34m.\u001b[0m\u001b[0m_engine\u001b[0m\u001b[0;34m.\u001b[0m\u001b[0mget_loc\u001b[0m\u001b[0;34m(\u001b[0m\u001b[0mcasted_key\u001b[0m\u001b[0;34m)\u001b[0m\u001b[0;34m\u001b[0m\u001b[0;34m\u001b[0m\u001b[0m\n\u001b[1;32m   2899\u001b[0m             \u001b[0;32mexcept\u001b[0m \u001b[0mKeyError\u001b[0m \u001b[0;32mas\u001b[0m \u001b[0merr\u001b[0m\u001b[0;34m:\u001b[0m\u001b[0;34m\u001b[0m\u001b[0;34m\u001b[0m\u001b[0m\n\u001b[0;32m-> 2900\u001b[0;31m                 \u001b[0;32mraise\u001b[0m \u001b[0mKeyError\u001b[0m\u001b[0;34m(\u001b[0m\u001b[0mkey\u001b[0m\u001b[0;34m)\u001b[0m \u001b[0;32mfrom\u001b[0m \u001b[0merr\u001b[0m\u001b[0;34m\u001b[0m\u001b[0;34m\u001b[0m\u001b[0m\n\u001b[0m\u001b[1;32m   2901\u001b[0m \u001b[0;34m\u001b[0m\u001b[0m\n\u001b[1;32m   2902\u001b[0m         \u001b[0;32mif\u001b[0m \u001b[0mtolerance\u001b[0m \u001b[0;32mis\u001b[0m \u001b[0;32mnot\u001b[0m \u001b[0;32mNone\u001b[0m\u001b[0;34m:\u001b[0m\u001b[0;34m\u001b[0m\u001b[0;34m\u001b[0m\u001b[0m\n",
      "\u001b[0;31mKeyError\u001b[0m: 'info'"
     ]
    }
   ],
   "source": [
    "\n",
    "submission = pd.read_csv('soft_voting.csv')\n",
    "# print(submission)\n",
    "for nums in submission['probs']:\n",
    "    for num in nums:\n",
    "        if num == None:\n",
    "            print('nono')\n",
    "            break\n"
   ]
  }
 ],
 "metadata": {
  "kernelspec": {
   "display_name": "Python 3 (ipykernel)",
   "language": "python",
   "name": "python3"
  },
  "language_info": {
   "codemirror_mode": {
    "name": "ipython",
    "version": 3
   },
   "file_extension": ".py",
   "mimetype": "text/x-python",
   "name": "python",
   "nbconvert_exporter": "python",
   "pygments_lexer": "ipython3",
   "version": "3.8.5"
  },
  "toc": {
   "base_numbering": 1,
   "nav_menu": {},
   "number_sections": true,
   "sideBar": true,
   "skip_h1_title": false,
   "title_cell": "Table of Contents",
   "title_sidebar": "Contents",
   "toc_cell": false,
   "toc_position": {},
   "toc_section_display": true,
   "toc_window_display": false
  }
 },
 "nbformat": 4,
 "nbformat_minor": 5
}
