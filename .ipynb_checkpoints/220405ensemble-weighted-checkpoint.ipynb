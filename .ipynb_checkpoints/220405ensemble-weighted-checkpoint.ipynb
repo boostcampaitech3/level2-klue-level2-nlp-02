{
 "cells": [
  {
   "cell_type": "code",
   "execution_count": 20,
   "id": "c0708766-cd19-456e-a9ce-5b001dbfa21d",
   "metadata": {},
   "outputs": [],
   "source": [
    "import numpy as np\n",
    "import pandas as pd\n",
    "from glob import glob\n",
    "import pickle as pickle"
   ]
  },
  {
   "cell_type": "code",
   "execution_count": 21,
   "id": "44d47567-95be-462b-902d-7a03aeb9cd88",
   "metadata": {},
   "outputs": [
    {
     "name": "stdout",
     "output_type": "stream",
     "text": [
      "/opt/ml/week12\n"
     ]
    }
   ],
   "source": [
    "!pwd"
   ]
  },
  {
   "cell_type": "code",
   "execution_count": 22,
   "id": "952edadb-19a3-47a1-a3ee-052fe7bb4895",
   "metadata": {},
   "outputs": [
    {
     "name": "stdout",
     "output_type": "stream",
     "text": [
      "5\n",
      "['/opt/ml/week12/submission_csv/output (2).csv', '/opt/ml/week12/submission_csv/output (4).csv', '/opt/ml/week12/submission_csv/output (0).csv', '/opt/ml/week12/submission_csv/output (1).csv', '/opt/ml/week12/submission_csv/output (3).csv']\n",
      "['/opt/ml/week12/submission_csv/output (0).csv', '/opt/ml/week12/submission_csv/output (1).csv', '/opt/ml/week12/submission_csv/output (2).csv', '/opt/ml/week12/submission_csv/output (3).csv', '/opt/ml/week12/submission_csv/output (4).csv']\n"
     ]
    }
   ],
   "source": [
    "# csv 파일들 저장한 위치\n",
    "outputs = glob('/opt/ml/week12/submission_csv/*')\n",
    "print(len(outputs))\n",
    "print(outputs)\n",
    "outputs.sort()\n",
    "print(outputs)"
   ]
  },
  {
   "cell_type": "code",
   "execution_count": 23,
   "id": "9b2bc3af-7a35-40c7-be1d-23785566af73",
   "metadata": {},
   "outputs": [
    {
     "data": {
      "text/plain": [
       "(7765, 5)"
      ]
     },
     "execution_count": 23,
     "metadata": {},
     "output_type": "execute_result"
    }
   ],
   "source": [
    "new_input = list()\n",
    "for output in outputs:\n",
    "    df = pd.read_csv(output)\n",
    "    new_input.append(list(df['probs']))\n",
    "new_input = np.transpose(new_input)\n",
    "new_input.shape"
   ]
  },
  {
   "cell_type": "code",
   "execution_count": 24,
   "id": "7c9c31c1-d239-43a2-8528-0ac6b1499992",
   "metadata": {},
   "outputs": [
    {
     "name": "stdout",
     "output_type": "stream",
     "text": [
      "['[0.0411848925043027, 0.0011649213888200087, 0.042431898073899736, 0.06886409372687852, 0.00018768982783040996, 0.006269147873687357, 0.00023284888868421863, 0.0008274256225205132, 0.00047317607382428513, 0.00022577902048756608, 0.00025273898811423325, 0.000119052717815901, 0.00022908574382260265, 0.00015100563726495671, 0.0001275341888446839, 0.00010656465939117204, 0.00012443970915805417, 0.000155168402470407, 0.0003178207964109966, 0.0007690987449300668, 0.0010737843285842908, 0.0001161580457975857, 0.0001537996996052175, 8.811016502729445e-05, 0.00010446820226817608, 0.00012489715510659503, 8.879261242718106e-05, 0.00010187324154975655, 0.0004359608553827623, 0.0001642376983227316]'\n",
      " '[0.24894411861896515, 0.007752744015306234, 0.2770920693874359, 0.38045698404312134, 0.0012986889341846108, 0.04027523100376129, 0.0016041945200413465, 0.005659749731421471, 0.0027415191289037466, 0.0015097192954272032, 0.0017447725404053926, 0.0008306267554871738, 0.0014741503400728106, 0.001041592564433813, 0.0008792011649347842, 0.0007417436572723091, 0.0008602904854342341, 0.0010521477088332176, 0.0020620953291654587, 0.005215380806475878, 0.0073761832900345325, 0.0007947396370582283, 0.001030324841849506, 0.0006090597598813474, 0.0007137858774513006, 0.0008626635535620153, 0.0006184927187860012, 0.0007054625893943012, 0.002912685042247176, 0.001139574102126062]'\n",
      " '[0.19214898347854614, 0.032907623797655106, 0.4188343286514282, 0.23862069845199585, 0.0008132646908052266, 0.05922769010066986, 0.00149414106272161, 0.010043475776910782, 0.0016108924755826592, 0.001875080168247223, 0.0032726579811424017, 0.0011261049658060074, 0.0015137922018766403, 0.0011397463968023658, 0.0005861241370439529, 0.0008615252445451915, 0.0012710965238511562, 0.001071625854820013, 0.001593244494870305, 0.009954173117876053, 0.010475768707692623, 0.0006985999061726034, 0.000842052570078522, 0.0006586078088730574, 0.0005448680021800101, 0.0008414549520239234, 0.0006644421373493969, 0.0008421894744969904, 0.0035895039327442646, 0.0008762889774516225]'\n",
      " '[0.40639448165893555, 0.016085142269730568, 0.2575739622116089, 0.22252361476421356, 0.0007182347471825778, 0.06800626963376999, 0.0009289620211347938, 0.00404846528545022, 0.0012409794144332409, 0.0006925298948772252, 0.0007831317489035428, 0.000292846467345953, 0.0010085571557283401, 0.0003649129066616297, 0.0004135945637244731, 0.0003084504569415003, 0.00035287023638375103, 0.00043613920570351183, 0.0008003072580322623, 0.0034238069783896208, 0.008189979009330273, 0.00039538118289783597, 0.00043532365816645324, 0.00026274993433617055, 0.0004952826420776546, 0.0005640197196044028, 0.00026233430253341794, 0.00024065081379376352, 0.0024674164596945047, 0.0002897029626183212]'\n",
      " '[0.2846234440803528, 0.017630932852625847, 0.10798508673906326, 0.5260043740272522, 0.0013863160274922848, 0.025481820106506348, 0.0025692430790513754, 0.003848270745947957, 0.004039749503135681, 0.0008809725404717028, 0.0011439963709563017, 0.0008281884365715086, 0.0014589085476472974, 0.000735273293685168, 0.0008651854004710913, 0.0007104702526703477, 0.0006867600022815168, 0.0006710488814860582, 0.000869634619448334, 0.001975727966055274, 0.006739497184753418, 0.0010243385331705213, 0.0006452829693444073, 0.0005305415252223611, 0.0007372259278781712, 0.0008224028279073536, 0.0003968018863815814, 0.0005101950955577195, 0.0036493137013167143, 0.0005490261246450245]']\n",
      "<class 'numpy.ndarray'>\n"
     ]
    }
   ],
   "source": [
    "print(new_input[0])\n",
    "print(type(new_input[0]))"
   ]
  },
  {
   "cell_type": "code",
   "execution_count": 25,
   "id": "d75f571b-91e1-4ad8-b903-5194db5bcf5c",
   "metadata": {},
   "outputs": [
    {
     "data": {
      "text/plain": [
       "7765"
      ]
     },
     "execution_count": 25,
     "metadata": {},
     "output_type": "execute_result"
    }
   ],
   "source": [
    "len(new_input)"
   ]
  },
  {
   "cell_type": "code",
   "execution_count": 35,
   "id": "c42f2c86-2f3c-4a7b-b97a-65a54093cf17",
   "metadata": {},
   "outputs": [
    {
     "name": "stdout",
     "output_type": "stream",
     "text": [
      "[0.27230238164837756, 0.01805194914373211, 0.2756649542544066, 0.34233863267710496, 0.0010591737671352174, 0.04773939154368192, 0.0016190034705502875, 0.006097844532342484, 0.002406059416015431, 0.0013076253445132788, 0.0018245027738616017, 0.000793623229357005, 0.0013819121783407843, 0.0008621299234949226, 0.0006975231136756763, 0.000673948409872009, 0.0008260718377704906, 0.0008498446337031673, 0.0014358740451855703, 0.005432761111545274, 0.008175929871470684, 0.0007286310725673376, 0.0007769418835422012, 0.0005319470668989022, 0.0006239300575876049, 0.0007816750082650316, 0.0005094602673515913, 0.0006036257227335709, 0.003131647575497889, 0.0007710044194186746]\n",
      "0.9999999999999997\n",
      "[0.14193168542929266, 0.002373715388092203, 0.0009069330040866383, 0.0013274035439475873, 0.20643358087478225, 0.010061208558703898, 0.011641784447090839, 0.0011066486390152066, 0.004751302239737077, 0.000540654240449032, 0.0038305321453951813, 0.002609627446387221, 0.5505908939465136, 0.0030049625691414305, 0.0035455691992213414, 0.009847068238919192, 0.0025077506513651736, 0.017000727043978838, 0.0011791311859863532, 0.0003912105815332967, 0.0015847984257107862, 0.011421752405349574, 0.0004653562167040491, 0.0008454429283893029, 0.0010941610137622558, 0.0028414861842184385, 0.003823682853240357, 0.0007290329222976427, 0.0008154092000790198, 0.0007964884766095238]\n",
      "1.0\n"
     ]
    }
   ],
   "source": [
    "\n",
    "# 각 csv 파일의 같은 문장에 대한 확률값 모두 뽑아오기\n",
    "ans_list = list()\n",
    "for row_data in new_input:\n",
    "    # str로 뭉쳐져 있는 데이터를 np로 split\n",
    "    row_data = np.split(row_data, len(row_data))\n",
    "    \n",
    "    # 클래스 갯수는 30개\n",
    "    class_num = 30\n",
    "    \n",
    "    # 들어온 csv 파일 갯수는 5개\n",
    "    csv_num = 5\n",
    "    weighted = [3, 2, 2, 1.5, 1.5]\n",
    "    \n",
    "    # 30개 클래스 값을 단순 누적으로 더할 list 선언\n",
    "    temp_list = [0] * class_num\n",
    "    # n개의 csv 파일에 대해 탐색\n",
    "    for i in range(len(row_data)):\n",
    "        # str 데이터를 list 형태로 변환\n",
    "        temp_data = row_data[i][0].replace('[', '').replace(']', '').strip().split(', ')\n",
    "        # 각 값마다 알맞은 class의 확률 값에 더해줌\n",
    "        for idx, temp in enumerate(temp_data):\n",
    "            # weighted 값에 맞춰서 계산\n",
    "            temp_list[idx] += (float(temp) * weighted[i])\n",
    "    \n",
    "    # 단순 누적한 합을 csv파일 갯수로 나누어 평균을 구함.\n",
    "    row_len = len(row_data)\n",
    "    for i in range(class_num):\n",
    "        temp_list[i] /= (row_len * 1)\n",
    "        \n",
    "    sum_num = sum(temp_list[:])\n",
    "    for i in range(class_num):\n",
    "        temp_list[i] /= sum_num\n",
    "    ans_list.append(temp_list[:])\n",
    "\n",
    "for i in range(2):\n",
    "    print(ans_list[i])\n",
    "    print(sum(ans_list[i]))\n",
    "        \n",
    "        "
   ]
  },
  {
   "cell_type": "code",
   "execution_count": 29,
   "id": "6998e830-95be-4b81-8bee-214b862b1a8e",
   "metadata": {},
   "outputs": [
    {
     "name": "stdout",
     "output_type": "stream",
     "text": [
      "7765\n"
     ]
    }
   ],
   "source": [
    "print(len(ans_list))"
   ]
  },
  {
   "cell_type": "code",
   "execution_count": 30,
   "id": "598ba12e-85d3-466e-b0b5-8694875dcbab",
   "metadata": {},
   "outputs": [],
   "source": [
    "def num_to_label(label):\n",
    "    num_label = []\n",
    "    with open('dict_num_to_label.pkl', 'rb') as f:\n",
    "        dict_num_to_label = pickle.load(f)\n",
    "    for v in label:\n",
    "        num_label.append(dict_num_to_label[v.index(max(v))])\n",
    "    \n",
    "    return num_label\n"
   ]
  },
  {
   "cell_type": "code",
   "execution_count": 31,
   "id": "3fd34534-cc4e-4bc3-ba49-8ab863e2ca17",
   "metadata": {},
   "outputs": [],
   "source": [
    "with open('dict_num_to_label.pkl', 'rb') as f:\n",
    "        dict_num_to_label = pickle.load(f)"
   ]
  },
  {
   "cell_type": "code",
   "execution_count": 32,
   "id": "acbaad61-7b23-4f91-8eee-28ae92c1b57a",
   "metadata": {},
   "outputs": [
    {
     "name": "stdout",
     "output_type": "stream",
     "text": [
      "{0: 'no_relation', 1: 'org:top_members/employees', 2: 'org:members', 3: 'org:product', 4: 'per:title', 5: 'org:alternate_names', 6: 'per:employee_of', 7: 'org:place_of_headquarters', 8: 'per:product', 9: 'org:number_of_employees/members', 10: 'per:children', 11: 'per:place_of_residence', 12: 'per:alternate_names', 13: 'per:other_family', 14: 'per:colleagues', 15: 'per:origin', 16: 'per:siblings', 17: 'per:spouse', 18: 'org:founded', 19: 'org:political/religious_affiliation', 20: 'org:member_of', 21: 'per:parents', 22: 'org:dissolved', 23: 'per:schools_attended', 24: 'per:date_of_death', 25: 'per:date_of_birth', 26: 'per:place_of_birth', 27: 'per:place_of_death', 28: 'org:founded_by', 29: 'per:religion'}\n"
     ]
    }
   ],
   "source": [
    "print(dict_num_to_label)"
   ]
  },
  {
   "cell_type": "code",
   "execution_count": 33,
   "id": "9182d69f-089e-47ee-b0c6-884c8adff2c0",
   "metadata": {},
   "outputs": [
    {
     "name": "stdout",
     "output_type": "stream",
     "text": [
      "['org:product', 'per:alternate_names', 'no_relation', 'no_relation', 'org:top_members/employees', 'no_relation', 'per:employee_of', 'per:spouse', 'org:members', 'org:top_members/employees']\n"
     ]
    }
   ],
   "source": [
    "pred_list = num_to_label(ans_list)\n",
    "print(pred_list[:10])"
   ]
  },
  {
   "cell_type": "code",
   "execution_count": 34,
   "id": "e2973b3c-1348-4092-98d7-1640aab8cb29",
   "metadata": {},
   "outputs": [
    {
     "name": "stdout",
     "output_type": "stream",
     "text": [
      "        id                 pred_label  \\\n",
      "0        0                org:product   \n",
      "1        1        per:alternate_names   \n",
      "2        2                no_relation   \n",
      "3        3                no_relation   \n",
      "4        4  org:top_members/employees   \n",
      "...    ...                        ...   \n",
      "7760  7760  org:place_of_headquarters   \n",
      "7761  7761                no_relation   \n",
      "7762  7762  org:top_members/employees   \n",
      "7763  7763                no_relation   \n",
      "7764  7764                no_relation   \n",
      "\n",
      "                                                  probs  \n",
      "0     [0.2723205240771869, 0.018053151873580548, 0.2...  \n",
      "1     [0.14194113614550372, 0.00237387344519151, 0.0...  \n",
      "2     [0.9199973540613772, 0.000631165590634532, 0.0...  \n",
      "3     [0.7100222662212329, 0.0011614482609322934, 0....  \n",
      "4     [0.44102666493915127, 0.537021732445364, 0.002...  \n",
      "...                                                 ...  \n",
      "7760  [0.33915699727343873, 0.005714417304189352, 0....  \n",
      "7761  [0.9532909112591722, 0.00475217613561262, 0.00...  \n",
      "7762  [0.026728912519913703, 0.9551517235477733, 0.0...  \n",
      "7763  [0.8203418833500246, 0.0011173016130673241, 0....  \n",
      "7764  [0.946300188575198, 0.0032802129585690213, 0.0...  \n",
      "\n",
      "[7765 rows x 3 columns]\n"
     ]
    }
   ],
   "source": [
    "submission = pd.read_csv('info.csv')\n",
    "submission['pred_label'] = pred_list\n",
    "submission['probs'] = ans_list\n",
    "print(submission)\n",
    "\n",
    "submission.to_csv('./soft_voting.csv', index=False)"
   ]
  }
 ],
 "metadata": {
  "kernelspec": {
   "display_name": "Python 3 (ipykernel)",
   "language": "python",
   "name": "python3"
  },
  "language_info": {
   "codemirror_mode": {
    "name": "ipython",
    "version": 3
   },
   "file_extension": ".py",
   "mimetype": "text/x-python",
   "name": "python",
   "nbconvert_exporter": "python",
   "pygments_lexer": "ipython3",
   "version": "3.8.5"
  },
  "toc": {
   "base_numbering": 1,
   "nav_menu": {},
   "number_sections": true,
   "sideBar": true,
   "skip_h1_title": false,
   "title_cell": "Table of Contents",
   "title_sidebar": "Contents",
   "toc_cell": false,
   "toc_position": {},
   "toc_section_display": true,
   "toc_window_display": false
  }
 },
 "nbformat": 4,
 "nbformat_minor": 5
}
