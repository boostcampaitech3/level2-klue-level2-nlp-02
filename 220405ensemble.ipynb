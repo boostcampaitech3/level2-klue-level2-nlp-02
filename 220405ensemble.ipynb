{
 "cells": [
  {
   "cell_type": "code",
   "execution_count": 224,
   "id": "c0708766-cd19-456e-a9ce-5b001dbfa21d",
   "metadata": {},
   "outputs": [],
   "source": [
    "import numpy as np\n",
    "import pandas as pd\n",
    "from glob import glob\n",
    "import pickle as pickle"
   ]
  },
  {
   "cell_type": "code",
   "execution_count": 225,
   "id": "44d47567-95be-462b-902d-7a03aeb9cd88",
   "metadata": {},
   "outputs": [
    {
     "name": "stdout",
     "output_type": "stream",
     "text": [
      "/opt/ml/week12\n"
     ]
    }
   ],
   "source": [
    "!pwd"
   ]
  },
  {
   "cell_type": "code",
   "execution_count": 226,
   "id": "952edadb-19a3-47a1-a3ee-052fe7bb4895",
   "metadata": {},
   "outputs": [
    {
     "name": "stdout",
     "output_type": "stream",
     "text": [
      "5\n",
      "['/opt/ml/week12/submission_csv/output (2).csv', '/opt/ml/week12/submission_csv/output (4).csv', '/opt/ml/week12/submission_csv/output.csv', '/opt/ml/week12/submission_csv/output (1).csv', '/opt/ml/week12/submission_csv/output (3).csv']\n"
     ]
    }
   ],
   "source": [
    "# csv 파일들 저장한 위치\n",
    "outputs = glob('/opt/ml/week12/submission_csv/*')\n",
    "print(len(outputs))\n",
    "print(outputs)"
   ]
  },
  {
   "cell_type": "code",
   "execution_count": 227,
   "id": "9b2bc3af-7a35-40c7-be1d-23785566af73",
   "metadata": {},
   "outputs": [
    {
     "data": {
      "text/plain": [
       "(7765, 5)"
      ]
     },
     "execution_count": 227,
     "metadata": {},
     "output_type": "execute_result"
    }
   ],
   "source": [
    "new_input = list()\n",
    "for output in outputs:\n",
    "    df = pd.read_csv(output)\n",
    "    new_input.append(list(df['probs']))\n",
    "new_input = np.transpose(new_input)\n",
    "new_input.shape"
   ]
  },
  {
   "cell_type": "code",
   "execution_count": 216,
   "id": "7c9c31c1-d239-43a2-8528-0ac6b1499992",
   "metadata": {},
   "outputs": [
    {
     "name": "stdout",
     "output_type": "stream",
     "text": [
      "['[0.19214898347854614, 0.032907623797655106, 0.4188343286514282, 0.23862069845199585, 0.0008132646908052266, 0.05922769010066986, 0.00149414106272161, 0.010043475776910782, 0.0016108924755826592, 0.001875080168247223, 0.0032726579811424017, 0.0011261049658060074, 0.0015137922018766403, 0.0011397463968023658, 0.0005861241370439529, 0.0008615252445451915, 0.0012710965238511562, 0.001071625854820013, 0.001593244494870305, 0.009954173117876053, 0.010475768707692623, 0.0006985999061726034, 0.000842052570078522, 0.0006586078088730574, 0.0005448680021800101, 0.0008414549520239234, 0.0006644421373493969, 0.0008421894744969904, 0.0035895039327442646, 0.0008762889774516225]'\n",
      " '[0.3760102391242981, 0.0037762660067528486, 0.04122791811823845, 0.5204502940177917, 0.0009827450849115849, 0.012627675198018551, 0.0011010935995727777, 0.0031726891174912453, 0.004255884792655706, 0.0022993450984358788, 0.0006837018299847841, 0.00047820660984143615, 0.0007421004120260477, 0.0005441670073196292, 0.000517245614901185, 0.0006765076541341841, 0.0002903613494709134, 0.0009020536090247333, 0.00077101681381464, 0.0034751472994685173, 0.017912080511450768, 0.00045680339098908007, 0.00045228004455566406, 0.0004774296539835632, 0.0006675884942524135, 0.000787264434620738, 0.0004553571925498545, 0.0003732045297510922, 0.002823079703375697, 0.0006102686747908592]'\n",
      " '[0.24894411861896515, 0.007752744015306234, 0.2770920693874359, 0.38045698404312134, 0.0012986889341846108, 0.04027523100376129, 0.0016041945200413465, 0.005659749731421471, 0.0027415191289037466, 0.0015097192954272032, 0.0017447725404053926, 0.0008306267554871738, 0.0014741503400728106, 0.001041592564433813, 0.0008792011649347842, 0.0007417436572723091, 0.0008602904854342341, 0.0010521477088332176, 0.0020620953291654587, 0.005215380806475878, 0.0073761832900345325, 0.0007947396370582283, 0.001030324841849506, 0.0006090597598813474, 0.0007137858774513006, 0.0008626635535620153, 0.0006184927187860012, 0.0007054625893943012, 0.002912685042247176, 0.001139574102126062]'\n",
      " '[0.27107614278793335, 0.007403826341032982, 0.27308210730552673, 0.34875744581222534, 0.0012383341090753675, 0.051440559327602386, 0.0015785477589815855, 0.006405137944966555, 0.00247192638926208, 0.0014583392767235637, 0.0015740010421723127, 0.0007813840638846159, 0.0014358003390952945, 0.0010036055464297533, 0.0008455076022073627, 0.0007455774466507137, 0.0008111228235065937, 0.001003401237539947, 0.0020535392686724663, 0.005986856296658516, 0.00999686773866415, 0.0007811315590515733, 0.0010276709217578173, 0.0005610020598396659, 0.0006564986542798579, 0.0007995544583536685, 0.0005837572971358895, 0.0006383717409335077, 0.002706482307985425, 0.0010954414028674364]'\n",
      " '[0.2484281212091446, 0.014939351007342339, 0.5756620764732361, 0.0789855346083641, 0.0006728525040671229, 0.030942082405090332, 0.0010438417084515095, 0.010382067412137985, 0.0013637522934004664, 0.0028484459035098553, 0.0010267209727317095, 0.0006901461747474968, 0.0008335087331943214, 0.0010974095202982426, 0.0008741430356167257, 0.0006243853131309152, 0.0008959306869655848, 0.0005932027124799788, 0.001142307766713202, 0.005799087695777416, 0.012969681061804295, 0.0005596059490926564, 0.0009982589399442077, 0.0005512309726327658, 0.001102643320336938, 0.0007445369265042245, 0.0005481231492012739, 0.0006882069283165038, 0.0023484884295612574, 0.0006442588637582958]']\n",
      "<class 'numpy.ndarray'>\n"
     ]
    }
   ],
   "source": [
    "print(new_input[0])\n",
    "print(type(new_input[0]))"
   ]
  },
  {
   "cell_type": "code",
   "execution_count": 217,
   "id": "d75f571b-91e1-4ad8-b903-5194db5bcf5c",
   "metadata": {},
   "outputs": [
    {
     "data": {
      "text/plain": [
       "7765"
      ]
     },
     "execution_count": 217,
     "metadata": {},
     "output_type": "execute_result"
    }
   ],
   "source": [
    "len(new_input)"
   ]
  },
  {
   "cell_type": "code",
   "execution_count": 218,
   "id": "c42f2c86-2f3c-4a7b-b97a-65a54093cf17",
   "metadata": {},
   "outputs": [
    {
     "name": "stdout",
     "output_type": "stream",
     "text": [
      "[0.2673215210437775, 0.013355962233617902, 0.3171796999871731, 0.31345419138669967, 0.0010011770646087825, 0.03890264760702848, 0.0013643637299537658, 0.007132623996585608, 0.0024887950159609316, 0.001998185948468745, 0.00166037087328732, 0.0007812937139533461, 0.001199870405253023, 0.0009653042070567608, 0.0007404443109408021, 0.0007299478631466628, 0.0008257603738456964, 0.000924486224539578, 0.0015244407346472143, 0.006086129043251276, 0.011746116261929274, 0.0006581760884728282, 0.0008701174636371433, 0.0005714660510420799, 0.000737076869700104, 0.0008070948650129139, 0.0005740344990044832, 0.000649487052578479, 0.002876047883182764, 0.0008731664041988551]\n",
      "[0.1373557925224304, 0.002242260682396591, 0.0010497959447093308, 0.0014755152398720384, 0.2354753464460373, 0.006705841398797929, 0.01613993290811777, 0.0014161288738250733, 0.005625568144023418, 0.0005821948056109249, 0.0049020327161997555, 0.0027694385033100845, 0.5171171247959137, 0.0028171933256089686, 0.004416864784434438, 0.00907089225947857, 0.0032234402373433114, 0.02259947331622243, 0.0008305433380883187, 0.0005080265807919204, 0.0016863724449649453, 0.010249870549887418, 0.00042398659279569985, 0.0010119647486135364, 0.001203876198269427, 0.003139101411215961, 0.0029607546981424092, 0.0009126516524702311, 0.0009686214267276228, 0.0011193878133781254]\n"
     ]
    }
   ],
   "source": [
    "\n",
    "# 각 csv 파일의 같은 문장에 대한 확률값 모두 뽑아오기\n",
    "ans_list = list()\n",
    "for row_data in new_input:\n",
    "    # str로 뭉쳐져 있는 데이터를 np로 split\n",
    "    row_data = np.split(row_data, len(row_data))\n",
    "    \n",
    "    # 클래스 갯수는 30개\n",
    "    class_num = 30\n",
    "    # 30개 클래스 값을 단순 누적으로 더할 list 선언\n",
    "    temp_list = [0] * class_num\n",
    "    # n개의 csv 파일에 대해 탐색\n",
    "    for i in range(len(row_data)):\n",
    "        # str 데이터를 list 형태로 변환\n",
    "        temp_data = row_data[i][0].replace('[', '').replace(']', '').strip().split(', ')\n",
    "        # 각 값마다 알맞은 class의 확률 값에 더해줌\n",
    "        for idx, temp in enumerate(temp_data):\n",
    "            temp_list[idx] += float(temp)\n",
    "    \n",
    "    # 단순 누적한 합을 csv파일 갯수로 나누어 평균을 구함.\n",
    "    row_len = len(row_data)\n",
    "    for i in range(class_num):\n",
    "        temp_list[i] /= row_len\n",
    "    \n",
    "    ans_list.append(temp_list[:])\n",
    "\n",
    "for i in range(2):\n",
    "    print(ans_list[i])\n",
    "        \n",
    "        "
   ]
  },
  {
   "cell_type": "code",
   "execution_count": 219,
   "id": "6998e830-95be-4b81-8bee-214b862b1a8e",
   "metadata": {},
   "outputs": [
    {
     "name": "stdout",
     "output_type": "stream",
     "text": [
      "7765\n"
     ]
    }
   ],
   "source": [
    "print(len(ans_list))"
   ]
  },
  {
   "cell_type": "code",
   "execution_count": 220,
   "id": "598ba12e-85d3-466e-b0b5-8694875dcbab",
   "metadata": {},
   "outputs": [],
   "source": [
    "def num_to_label(label):\n",
    "    num_label = []\n",
    "    with open('dict_num_to_label.pkl', 'rb') as f:\n",
    "        dict_num_to_label = pickle.load(f)\n",
    "    for v in label:\n",
    "        num_label.append(dict_num_to_label[v.index(max(v))])\n",
    "    \n",
    "    return num_label\n"
   ]
  },
  {
   "cell_type": "code",
   "execution_count": 221,
   "id": "acbaad61-7b23-4f91-8eee-28ae92c1b57a",
   "metadata": {},
   "outputs": [
    {
     "name": "stdout",
     "output_type": "stream",
     "text": [
      "{0: 'no_relation', 1: 'org:top_members/employees', 2: 'org:members', 3: 'org:product', 4: 'per:title', 5: 'org:alternate_names', 6: 'per:employee_of', 7: 'org:place_of_headquarters', 8: 'per:product', 9: 'org:number_of_employees/members', 10: 'per:children', 11: 'per:place_of_residence', 12: 'per:alternate_names', 13: 'per:other_family', 14: 'per:colleagues', 15: 'per:origin', 16: 'per:siblings', 17: 'per:spouse', 18: 'org:founded', 19: 'org:political/religious_affiliation', 20: 'org:member_of', 21: 'per:parents', 22: 'org:dissolved', 23: 'per:schools_attended', 24: 'per:date_of_death', 25: 'per:date_of_birth', 26: 'per:place_of_birth', 27: 'per:place_of_death', 28: 'org:founded_by', 29: 'per:religion'}\n"
     ]
    }
   ],
   "source": [
    "print(dict_num_to_label)"
   ]
  },
  {
   "cell_type": "code",
   "execution_count": 222,
   "id": "9182d69f-089e-47ee-b0c6-884c8adff2c0",
   "metadata": {},
   "outputs": [
    {
     "name": "stdout",
     "output_type": "stream",
     "text": [
      "['org:members', 'per:alternate_names', 'no_relation', 'no_relation', 'no_relation', 'no_relation', 'per:employee_of', 'per:spouse', 'org:members', 'org:top_members/employees']\n"
     ]
    }
   ],
   "source": [
    "pred_list = num_to_label(ans_list)\n",
    "print(pred_list[:10])"
   ]
  },
  {
   "cell_type": "code",
   "execution_count": 223,
   "id": "e2973b3c-1348-4092-98d7-1640aab8cb29",
   "metadata": {},
   "outputs": [
    {
     "name": "stdout",
     "output_type": "stream",
     "text": [
      "        id                 pred_label  \\\n",
      "0        0                org:members   \n",
      "1        1        per:alternate_names   \n",
      "2        2                no_relation   \n",
      "3        3                no_relation   \n",
      "4        4                no_relation   \n",
      "...    ...                        ...   \n",
      "7760  7760  org:place_of_headquarters   \n",
      "7761  7761                no_relation   \n",
      "7762  7762  org:top_members/employees   \n",
      "7763  7763                no_relation   \n",
      "7764  7764                no_relation   \n",
      "\n",
      "                                                  probs  \n",
      "0     [0.2673215210437775, 0.013355962233617902, 0.3...  \n",
      "1     [0.1373557925224304, 0.002242260682396591, 0.0...  \n",
      "2     [0.9188700795173645, 0.0006421239173505455, 0....  \n",
      "3     [0.6721016049385071, 0.0016100150649435818, 0....  \n",
      "4     [0.50172159075737, 0.472111189365387, 0.003137...  \n",
      "...                                                 ...  \n",
      "7760  [0.32317140102386477, 0.005235480889678001, 0....  \n",
      "7761  [0.919451105594635, 0.005006567481905222, 0.01...  \n",
      "7762  [0.030790229514241218, 0.9499844074249267, 0.0...  \n",
      "7763  [0.7979951143264771, 0.0009498714469373226, 0....  \n",
      "7764  [0.9381764173507691, 0.0030802710622083395, 0....  \n",
      "\n",
      "[7765 rows x 3 columns]\n"
     ]
    }
   ],
   "source": [
    "submission = pd.read_csv('info.csv')\n",
    "submission['pred_label'] = pred_list\n",
    "submission['probs'] = ans_list\n",
    "print(submission)\n",
    "\n",
    "submission.to_csv('./soft_voting.csv', index=False)"
   ]
  }
 ],
 "metadata": {
  "kernelspec": {
   "display_name": "Python 3 (ipykernel)",
   "language": "python",
   "name": "python3"
  },
  "language_info": {
   "codemirror_mode": {
    "name": "ipython",
    "version": 3
   },
   "file_extension": ".py",
   "mimetype": "text/x-python",
   "name": "python",
   "nbconvert_exporter": "python",
   "pygments_lexer": "ipython3",
   "version": "3.8.5"
  },
  "toc": {
   "base_numbering": 1,
   "nav_menu": {},
   "number_sections": true,
   "sideBar": true,
   "skip_h1_title": false,
   "title_cell": "Table of Contents",
   "title_sidebar": "Contents",
   "toc_cell": false,
   "toc_position": {},
   "toc_section_display": true,
   "toc_window_display": false
  }
 },
 "nbformat": 4,
 "nbformat_minor": 5
}
