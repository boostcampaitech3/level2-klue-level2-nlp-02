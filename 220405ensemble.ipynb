{
 "cells": [
  {
   "cell_type": "code",
   "execution_count": 228,
   "id": "c0708766-cd19-456e-a9ce-5b001dbfa21d",
   "metadata": {},
   "outputs": [],
   "source": [
    "import numpy as np\n",
    "import pandas as pd\n",
    "from glob import glob\n",
    "import pickle as pickle"
   ]
  },
  {
   "cell_type": "code",
   "execution_count": 229,
   "id": "44d47567-95be-462b-902d-7a03aeb9cd88",
   "metadata": {},
   "outputs": [
    {
     "name": "stdout",
     "output_type": "stream",
     "text": [
      "/opt/ml/week12\n"
     ]
    }
   ],
   "source": [
    "!pwd"
   ]
  },
  {
   "cell_type": "code",
   "execution_count": 231,
   "id": "952edadb-19a3-47a1-a3ee-052fe7bb4895",
   "metadata": {},
   "outputs": [
    {
     "name": "stdout",
     "output_type": "stream",
     "text": [
      "5\n",
      "['/opt/ml/week12/submission_csv/output (9).csv', '/opt/ml/week12/submission_csv/output (7).csv', '/opt/ml/week12/submission_csv/output (8).csv', '/opt/ml/week12/submission_csv/output (5).csv', '/opt/ml/week12/submission_csv/output (6).csv']\n"
     ]
    }
   ],
   "source": [
    "# csv 파일들 저장한 위치\n",
    "outputs = glob('/opt/ml/week12/submission_csv/*')\n",
    "print(len(outputs))\n",
    "print(outputs)"
   ]
  },
  {
   "cell_type": "code",
   "execution_count": 232,
   "id": "9b2bc3af-7a35-40c7-be1d-23785566af73",
   "metadata": {},
   "outputs": [
    {
     "data": {
      "text/plain": [
       "(7765, 5)"
      ]
     },
     "execution_count": 232,
     "metadata": {},
     "output_type": "execute_result"
    }
   ],
   "source": [
    "new_input = list()\n",
    "for output in outputs:\n",
    "    df = pd.read_csv(output)\n",
    "    new_input.append(list(df['probs']))\n",
    "new_input = np.transpose(new_input)\n",
    "new_input.shape"
   ]
  },
  {
   "cell_type": "code",
   "execution_count": 233,
   "id": "7c9c31c1-d239-43a2-8528-0ac6b1499992",
   "metadata": {},
   "outputs": [
    {
     "name": "stdout",
     "output_type": "stream",
     "text": [
      "['[0.1645236611366272, 0.0066846865229308605, 0.4109727442264557, 0.35048189759254456, 0.001345184282399714, 0.011310369707643986, 0.00236958684399724, 0.01685933955013752, 0.0036202643532305956, 0.004478146322071552, 0.0009500582236796618, 0.005128891207277775, 0.0008686013170517981, 0.0001705565518932417, 0.0006708861328661442, 0.0008472397457808256, 0.0004956212942488492, 0.0002676721487659961, 0.00018738135986495763, 0.0018481536535546184, 0.006924788933247328, 0.000561571039725095, 0.0031663142144680023, 0.0005674174171872437, 0.0007119717192836106, 0.0011309442343190312, 0.0008636633865535259, 0.0005173543468117714, 0.0013067619875073433, 0.00016820609744172543]'\n",
      " '[0.13990938663482666, 0.00210854085162282, 0.06078583374619484, 0.7755243182182312, 0.0002499772817827761, 0.008537189103662968, 0.00019703165162354708, 0.002005872083827853, 0.001030782237648964, 0.00031553831649944186, 0.00046187976840883493, 0.00015816846280358732, 0.0002515652449801564, 0.0002627563662827015, 0.0002916627563536167, 0.00011532476491993293, 0.0002935922530014068, 0.00015380281547550112, 0.0005051611224189401, 0.001781004830263555, 0.0023023749236017466, 0.00018594741413835436, 0.00043970331898890436, 0.0001986735878745094, 0.0002273261925438419, 0.0002523606235627085, 0.00024380889954045415, 0.00032051283051259816, 0.0006872776430100203, 0.00020247948123142123]'\n",
      " '[0.2846234440803528, 0.017630932852625847, 0.10798508673906326, 0.5260043740272522, 0.0013863160274922848, 0.025481820106506348, 0.0025692430790513754, 0.003848270745947957, 0.004039749503135681, 0.0008809725404717028, 0.0011439963709563017, 0.0008281884365715086, 0.0014589085476472974, 0.000735273293685168, 0.0008651854004710913, 0.0007104702526703477, 0.0006867600022815168, 0.0006710488814860582, 0.000869634619448334, 0.001975727966055274, 0.006739497184753418, 0.0010243385331705213, 0.0006452829693444073, 0.0005305415252223611, 0.0007372259278781712, 0.0008224028279073536, 0.0003968018863815814, 0.0005101950955577195, 0.0036493137013167143, 0.0005490261246450245]'\n",
      " '[0.24894411861896515, 0.007752744015306234, 0.2770920693874359, 0.38045698404312134, 0.0012986889341846108, 0.04027523100376129, 0.0016041945200413465, 0.005659749731421471, 0.0027415191289037466, 0.0015097192954272032, 0.0017447725404053926, 0.0008306267554871738, 0.0014741503400728106, 0.001041592564433813, 0.0008792011649347842, 0.0007417436572723091, 0.0008602904854342341, 0.0010521477088332176, 0.0020620953291654587, 0.005215380806475878, 0.0073761832900345325, 0.0007947396370582283, 0.001030324841849506, 0.0006090597598813474, 0.0007137858774513006, 0.0008626635535620153, 0.0006184927187860012, 0.0007054625893943012, 0.002912685042247176, 0.001139574102126062]'\n",
      " '[0.19214898347854614, 0.032907623797655106, 0.4188343286514282, 0.23862069845199585, 0.0008132646908052266, 0.05922769010066986, 0.00149414106272161, 0.010043475776910782, 0.0016108924755826592, 0.001875080168247223, 0.0032726579811424017, 0.0011261049658060074, 0.0015137922018766403, 0.0011397463968023658, 0.0005861241370439529, 0.0008615252445451915, 0.0012710965238511562, 0.001071625854820013, 0.001593244494870305, 0.009954173117876053, 0.010475768707692623, 0.0006985999061726034, 0.000842052570078522, 0.0006586078088730574, 0.0005448680021800101, 0.0008414549520239234, 0.0006644421373493969, 0.0008421894744969904, 0.0035895039327442646, 0.0008762889774516225]']\n",
      "<class 'numpy.ndarray'>\n"
     ]
    }
   ],
   "source": [
    "print(new_input[0])\n",
    "print(type(new_input[0]))"
   ]
  },
  {
   "cell_type": "code",
   "execution_count": 234,
   "id": "d75f571b-91e1-4ad8-b903-5194db5bcf5c",
   "metadata": {},
   "outputs": [
    {
     "data": {
      "text/plain": [
       "7765"
      ]
     },
     "execution_count": 234,
     "metadata": {},
     "output_type": "execute_result"
    }
   ],
   "source": [
    "len(new_input)"
   ]
  },
  {
   "cell_type": "code",
   "execution_count": 235,
   "id": "c42f2c86-2f3c-4a7b-b97a-65a54093cf17",
   "metadata": {},
   "outputs": [
    {
     "name": "stdout",
     "output_type": "stream",
     "text": [
      "[0.2060299187898636, 0.013416905608028173, 0.2551340125501156, 0.45421765446662904, 0.0010186862433329224, 0.028966460004448892, 0.0016468394314870238, 0.007683341577649117, 0.0026086415397003292, 0.0018118913285434246, 0.0015146729769185186, 0.0016143959655892104, 0.0011134035303257406, 0.000669985034619458, 0.0006586119183339178, 0.0006552607330377214, 0.0007214721117634326, 0.0006432594818761572, 0.001043503385153599, 0.004154888074845075, 0.006763722607865929, 0.0006530393060529604, 0.0012247355829458685, 0.0005128600198077038, 0.0005870355438673869, 0.0007819652382750064, 0.000557441805722192, 0.0005791428673546761, 0.002429108461365104, 0.0005871149565791711]\n",
      "[0.13533092439174652, 0.002185350877698511, 0.0008234355656895787, 0.0014621241600252688, 0.30864112079143524, 0.009082083869725466, 0.01636960245668888, 0.00174302946543321, 0.006761731486767531, 0.0004959907557349652, 0.0025183753750752658, 0.002225680695846677, 0.4615251421928406, 0.0018532246467657387, 0.0040105488151311874, 0.008774049766361713, 0.0022759366780519485, 0.012614154117181897, 0.0010734266717918218, 0.00036011846095789223, 0.0015118626761250198, 0.008380243228748441, 0.00038773042906541376, 0.0008686660032253713, 0.0008668518275953829, 0.0024098065099678934, 0.003232655441388488, 0.0005480671999976039, 0.0008546050346922129, 0.0008134558040183038]\n"
     ]
    }
   ],
   "source": [
    "\n",
    "# 각 csv 파일의 같은 문장에 대한 확률값 모두 뽑아오기\n",
    "ans_list = list()\n",
    "for row_data in new_input:\n",
    "    # str로 뭉쳐져 있는 데이터를 np로 split\n",
    "    row_data = np.split(row_data, len(row_data))\n",
    "    \n",
    "    # 클래스 갯수는 30개\n",
    "    class_num = 30\n",
    "    # 30개 클래스 값을 단순 누적으로 더할 list 선언\n",
    "    temp_list = [0] * class_num\n",
    "    # n개의 csv 파일에 대해 탐색\n",
    "    for i in range(len(row_data)):\n",
    "        # str 데이터를 list 형태로 변환\n",
    "        temp_data = row_data[i][0].replace('[', '').replace(']', '').strip().split(', ')\n",
    "        # 각 값마다 알맞은 class의 확률 값에 더해줌\n",
    "        for idx, temp in enumerate(temp_data):\n",
    "            temp_list[idx] += float(temp)\n",
    "    \n",
    "    # 단순 누적한 합을 csv파일 갯수로 나누어 평균을 구함.\n",
    "    row_len = len(row_data)\n",
    "    for i in range(class_num):\n",
    "        temp_list[i] /= row_len\n",
    "    \n",
    "    ans_list.append(temp_list[:])\n",
    "\n",
    "for i in range(2):\n",
    "    print(ans_list[i])\n",
    "        \n",
    "        "
   ]
  },
  {
   "cell_type": "code",
   "execution_count": 236,
   "id": "6998e830-95be-4b81-8bee-214b862b1a8e",
   "metadata": {},
   "outputs": [
    {
     "name": "stdout",
     "output_type": "stream",
     "text": [
      "7765\n"
     ]
    }
   ],
   "source": [
    "print(len(ans_list))"
   ]
  },
  {
   "cell_type": "code",
   "execution_count": 237,
   "id": "598ba12e-85d3-466e-b0b5-8694875dcbab",
   "metadata": {},
   "outputs": [],
   "source": [
    "def num_to_label(label):\n",
    "    num_label = []\n",
    "    with open('dict_num_to_label.pkl', 'rb') as f:\n",
    "        dict_num_to_label = pickle.load(f)\n",
    "    for v in label:\n",
    "        num_label.append(dict_num_to_label[v.index(max(v))])\n",
    "    \n",
    "    return num_label\n"
   ]
  },
  {
   "cell_type": "code",
   "execution_count": 238,
   "id": "acbaad61-7b23-4f91-8eee-28ae92c1b57a",
   "metadata": {},
   "outputs": [
    {
     "name": "stdout",
     "output_type": "stream",
     "text": [
      "{0: 'no_relation', 1: 'org:top_members/employees', 2: 'org:members', 3: 'org:product', 4: 'per:title', 5: 'org:alternate_names', 6: 'per:employee_of', 7: 'org:place_of_headquarters', 8: 'per:product', 9: 'org:number_of_employees/members', 10: 'per:children', 11: 'per:place_of_residence', 12: 'per:alternate_names', 13: 'per:other_family', 14: 'per:colleagues', 15: 'per:origin', 16: 'per:siblings', 17: 'per:spouse', 18: 'org:founded', 19: 'org:political/religious_affiliation', 20: 'org:member_of', 21: 'per:parents', 22: 'org:dissolved', 23: 'per:schools_attended', 24: 'per:date_of_death', 25: 'per:date_of_birth', 26: 'per:place_of_birth', 27: 'per:place_of_death', 28: 'org:founded_by', 29: 'per:religion'}\n"
     ]
    }
   ],
   "source": [
    "print(dict_num_to_label)"
   ]
  },
  {
   "cell_type": "code",
   "execution_count": 239,
   "id": "9182d69f-089e-47ee-b0c6-884c8adff2c0",
   "metadata": {},
   "outputs": [
    {
     "name": "stdout",
     "output_type": "stream",
     "text": [
      "['org:product', 'per:alternate_names', 'no_relation', 'no_relation', 'org:top_members/employees', 'no_relation', 'per:employee_of', 'per:spouse', 'org:members', 'org:top_members/employees']\n"
     ]
    }
   ],
   "source": [
    "pred_list = num_to_label(ans_list)\n",
    "print(pred_list[:10])"
   ]
  },
  {
   "cell_type": "code",
   "execution_count": 240,
   "id": "e2973b3c-1348-4092-98d7-1640aab8cb29",
   "metadata": {},
   "outputs": [
    {
     "name": "stdout",
     "output_type": "stream",
     "text": [
      "        id                 pred_label  \\\n",
      "0        0                org:product   \n",
      "1        1        per:alternate_names   \n",
      "2        2                no_relation   \n",
      "3        3                no_relation   \n",
      "4        4  org:top_members/employees   \n",
      "...    ...                        ...   \n",
      "7760  7760  org:place_of_headquarters   \n",
      "7761  7761                no_relation   \n",
      "7762  7762  org:top_members/employees   \n",
      "7763  7763                no_relation   \n",
      "7764  7764                no_relation   \n",
      "\n",
      "                                                  probs  \n",
      "0     [0.2060299187898636, 0.013416905608028173, 0.2...  \n",
      "1     [0.13533092439174652, 0.002185350877698511, 0....  \n",
      "2     [0.9204344868659973, 0.0006791836931370199, 0....  \n",
      "3     [0.7089339613914489, 0.0008259608875960112, 0....  \n",
      "4     [0.46513445377349855, 0.5077337086200714, 0.00...  \n",
      "...                                                 ...  \n",
      "7760  [0.3552609860897064, 0.005444126622751355, 0.0...  \n",
      "7761  [0.9411365628242493, 0.004245117504615337, 0.0...  \n",
      "7762  [0.02823429964482784, 0.9524654030799866, 0.00...  \n",
      "7763  [0.8212826967239379, 0.001029601169284433, 0.0...  \n",
      "7764  [0.9401049137115478, 0.0023806679993867872, 0....  \n",
      "\n",
      "[7765 rows x 3 columns]\n"
     ]
    }
   ],
   "source": [
    "submission = pd.read_csv('info.csv')\n",
    "submission['pred_label'] = pred_list\n",
    "submission['probs'] = ans_list\n",
    "print(submission)\n",
    "\n",
    "submission.to_csv('./soft_voting.csv', index=False)"
   ]
  }
 ],
 "metadata": {
  "kernelspec": {
   "display_name": "Python 3 (ipykernel)",
   "language": "python",
   "name": "python3"
  },
  "language_info": {
   "codemirror_mode": {
    "name": "ipython",
    "version": 3
   },
   "file_extension": ".py",
   "mimetype": "text/x-python",
   "name": "python",
   "nbconvert_exporter": "python",
   "pygments_lexer": "ipython3",
   "version": "3.8.5"
  },
  "toc": {
   "base_numbering": 1,
   "nav_menu": {},
   "number_sections": true,
   "sideBar": true,
   "skip_h1_title": false,
   "title_cell": "Table of Contents",
   "title_sidebar": "Contents",
   "toc_cell": false,
   "toc_position": {},
   "toc_section_display": true,
   "toc_window_display": false
  }
 },
 "nbformat": 4,
 "nbformat_minor": 5
}
