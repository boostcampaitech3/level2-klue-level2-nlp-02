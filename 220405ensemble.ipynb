{
 "cells": [
  {
   "cell_type": "code",
   "execution_count": 275,
   "id": "c0708766-cd19-456e-a9ce-5b001dbfa21d",
   "metadata": {},
   "outputs": [],
   "source": [
    "import numpy as np\n",
    "import pandas as pd\n",
    "from glob import glob\n",
    "import pickle as pickle"
   ]
  },
  {
   "cell_type": "code",
   "execution_count": 276,
   "id": "44d47567-95be-462b-902d-7a03aeb9cd88",
   "metadata": {},
   "outputs": [
    {
     "name": "stdout",
     "output_type": "stream",
     "text": [
      "/opt/ml/week12\n"
     ]
    }
   ],
   "source": [
    "!pwd"
   ]
  },
  {
   "cell_type": "code",
   "execution_count": 277,
   "id": "952edadb-19a3-47a1-a3ee-052fe7bb4895",
   "metadata": {},
   "outputs": [
    {
     "name": "stdout",
     "output_type": "stream",
     "text": [
      "5\n",
      "['/opt/ml/week12/submission_csv/output (9).csv', '/opt/ml/week12/submission_csv/output (7).csv', '/opt/ml/week12/submission_csv/output (8).csv', '/opt/ml/week12/submission_csv/output (5).csv', '/opt/ml/week12/submission_csv/output (6).csv']\n"
     ]
    }
   ],
   "source": [
    "# csv 파일들 저장한 위치\n",
    "outputs = glob('/opt/ml/week12/submission_csv/*')\n",
    "print(len(outputs))\n",
    "print(outputs)"
   ]
  },
  {
   "cell_type": "code",
   "execution_count": 278,
   "id": "9b2bc3af-7a35-40c7-be1d-23785566af73",
   "metadata": {},
   "outputs": [
    {
     "data": {
      "text/plain": [
       "(7765, 5)"
      ]
     },
     "execution_count": 278,
     "metadata": {},
     "output_type": "execute_result"
    }
   ],
   "source": [
    "new_input = list()\n",
    "for output in outputs:\n",
    "    df = pd.read_csv(output)\n",
    "    new_input.append(list(df['probs']))\n",
    "new_input = np.transpose(new_input)\n",
    "new_input.shape"
   ]
  },
  {
   "cell_type": "code",
   "execution_count": 279,
   "id": "7c9c31c1-d239-43a2-8528-0ac6b1499992",
   "metadata": {},
   "outputs": [
    {
     "name": "stdout",
     "output_type": "stream",
     "text": [
      "['[0.2265540361404419, 0.013403923390433193, 0.2920028369873762, 0.35332113727927206, 0.0010391354328021408, 0.0660822482779622, 0.0013855094090104102, 0.007252805074676872, 0.0032114589121192694, 0.0018321973097044975, 0.0013039801240665838, 0.0010578019195236267, 0.001341211935505271, 0.0008118748039123603, 0.0006110078189522028, 0.0006071363903174642, 0.0007562161204987206, 0.0006944809618289582, 0.001454490867035929, 0.005555232148617506, 0.010863143135793507, 0.0007308946733246557, 0.0011634980328381062, 0.0005442114328616299, 0.0006427776461350732, 0.0009013165290525649, 0.0005542061233427375, 0.0006293131489655934, 0.0029474620707333086, 0.000744441086135339]'\n",
      " '[0.21090403199195862, 0.01253589247353375, 0.2586566433310509, 0.4426604241132736, 0.0010052739991806448, 0.03334228722378611, 0.0014737953431904316, 0.006744530494324863, 0.0023909439798444508, 0.0015779233013745396, 0.0016542220255360007, 0.0011848133523017167, 0.0011754826118703932, 0.0007877205629483796, 0.0006808449979871511, 0.0006478384646470658, 0.0007752920791972429, 0.0007598169206175954, 0.0013502208530553617, 0.004815576074179262, 0.006872530654072761, 0.0006533962761750445, 0.0010496408329345285, 0.0005248760775430128, 0.0005848729546414688, 0.0007591632427647709, 0.0005550938221858814, 0.0006174804409965872, 0.002516037900932133, 0.0007433065547957085]'\n",
      " '[0.22582531584966245, 0.015007253377179517, 0.2277596063961562, 0.4408143257465458, 0.000981364731356333, 0.04756279462718774, 0.0014038082920166878, 0.006438258490189151, 0.002970101860330164, 0.0013194407493582663, 0.001618577271256927, 0.0007013990162045812, 0.0012040936967151225, 0.0007882429513137562, 0.0006397462132118372, 0.0005912759892322435, 0.0007513419287482746, 0.000752903290124552, 0.0015667478341409686, 0.00504350107974484, 0.008280119598947118, 0.000645563815511302, 0.0008206602124121764, 0.0004995381704042496, 0.0005339457404636336, 0.0006718889111881483, 0.0004712920672500716, 0.0005785334579106046, 0.0030629185005138036, 0.0007470854510135074]'\n",
      " '[0.2084669753909111, 0.012976399040780962, 0.25689532794058323, 0.4484390392899513, 0.0010119801212567837, 0.031154373614117502, 0.0015603173873387278, 0.00721393603598699, 0.00249979275977239, 0.0016949073149589821, 0.0015844475012272597, 0.0013996046589454636, 0.0011444430710980669, 0.0007288527987839189, 0.0006697284581605345, 0.0006515495988423936, 0.0007483820954803377, 0.0007015382012468763, 0.0011968621191044803, 0.004485232074512169, 0.006818126630969345, 0.0006532177911140024, 0.0011371882079401984, 0.0005188680486753583, 0.0005859542492544278, 0.0007705642405198887, 0.0005562678139540367, 0.0005983116541756317, 0.0024725731811486183, 0.0006652107556874398]'\n",
      " '[0.2060299187898636, 0.013416905608028173, 0.2551340125501156, 0.45421765446662904, 0.0010186862433329224, 0.028966460004448892, 0.0016468394314870238, 0.007683341577649117, 0.0026086415397003292, 0.0018118913285434246, 0.0015146729769185186, 0.0016143959655892104, 0.0011134035303257406, 0.000669985034619458, 0.0006586119183339178, 0.0006552607330377214, 0.0007214721117634326, 0.0006432594818761572, 0.001043503385153599, 0.004154888074845075, 0.006763722607865929, 0.0006530393060529604, 0.0012247355829458685, 0.0005128600198077038, 0.0005870355438673869, 0.0007819652382750064, 0.000557441805722192, 0.0005791428673546761, 0.002429108461365104, 0.0005871149565791711]']\n",
      "<class 'numpy.ndarray'>\n"
     ]
    }
   ],
   "source": [
    "print(new_input[0])\n",
    "print(type(new_input[0]))"
   ]
  },
  {
   "cell_type": "code",
   "execution_count": 280,
   "id": "d75f571b-91e1-4ad8-b903-5194db5bcf5c",
   "metadata": {},
   "outputs": [
    {
     "data": {
      "text/plain": [
       "7765"
      ]
     },
     "execution_count": 280,
     "metadata": {},
     "output_type": "execute_result"
    }
   ],
   "source": [
    "len(new_input)"
   ]
  },
  {
   "cell_type": "code",
   "execution_count": 281,
   "id": "c42f2c86-2f3c-4a7b-b97a-65a54093cf17",
   "metadata": {},
   "outputs": [
    {
     "name": "stdout",
     "output_type": "stream",
     "text": [
      "[0.21555605563256752, 0.013468074777991118, 0.2580896854410564, 0.4278905161791344, 0.001011288105585765, 0.04142163274950049, 0.0014940539726086561, 0.0070665743345654, 0.002736187810353321, 0.0016472720007879422, 0.001535179979801058, 0.0011916029825129197, 0.0011957269691029188, 0.0007573352303155746, 0.0006519878813291287, 0.0006306122352153778, 0.0007505408671376016, 0.0007103997711388278, 0.001322365011698068, 0.004810885890379771, 0.007919528525529733, 0.000667222372435593, 0.0010791445738141756, 0.000520070749858391, 0.0005869172268723981, 0.0007769796323600759, 0.0005388603264909837, 0.0006005563138806186, 0.0026856200229385934, 0.0006974317608422332]\n",
      "1.0000103093278054\n",
      "[0.13263687441873015, 0.0020545796129636863, 0.0008188717376781705, 0.0014106617058885695, 0.2965495141695089, 0.008432238118885424, 0.014192368443974498, 0.0013580295031096336, 0.006140069783573306, 0.0004946622860343324, 0.0030243153031055646, 0.0022571142890472165, 0.4781892515527967, 0.0022729190679978287, 0.0036637119234067053, 0.008566026625100207, 0.0024501833298640812, 0.013047839132815148, 0.001000694521124466, 0.0003866936435141427, 0.0014588468653241597, 0.009471866061702415, 0.0003873268401915691, 0.0008051188791574307, 0.000949069550063809, 0.002398466029219083, 0.003308189988384144, 0.0006121036258939641, 0.0008035151806687334, 0.0008692102842897981]\n",
      "1.000010332474014\n"
     ]
    }
   ],
   "source": [
    "\n",
    "# 각 csv 파일의 같은 문장에 대한 확률값 모두 뽑아오기\n",
    "ans_list = list()\n",
    "for row_data in new_input:\n",
    "    # str로 뭉쳐져 있는 데이터를 np로 split\n",
    "    row_data = np.split(row_data, len(row_data))\n",
    "    \n",
    "    # 클래스 갯수는 30개\n",
    "    class_num = 30\n",
    "    # 30개 클래스 값을 단순 누적으로 더할 list 선언\n",
    "    temp_list = [0] * class_num\n",
    "    # n개의 csv 파일에 대해 탐색\n",
    "    for i in range(len(row_data)):\n",
    "        # str 데이터를 list 형태로 변환\n",
    "        temp_data = row_data[i][0].replace('[', '').replace(']', '').strip().split(', ')\n",
    "        # 각 값마다 알맞은 class의 확률 값에 더해줌\n",
    "        for idx, temp in enumerate(temp_data):\n",
    "            temp_list[idx] += float(temp)\n",
    "    \n",
    "    # 단순 누적한 합을 csv파일 갯수로 나누어 평균을 구함.\n",
    "    row_len = len(row_data)\n",
    "    for i in range(class_num):\n",
    "        temp_list[i] /= row_len\n",
    "    \n",
    "    ans_list.append(temp_list[:])\n",
    "\n",
    "for i in range(2):\n",
    "    print(ans_list[i])\n",
    "    print(sum(ans_list[i]))\n",
    "        \n",
    "        "
   ]
  },
  {
   "cell_type": "code",
   "execution_count": 282,
   "id": "6998e830-95be-4b81-8bee-214b862b1a8e",
   "metadata": {},
   "outputs": [
    {
     "name": "stdout",
     "output_type": "stream",
     "text": [
      "7765\n"
     ]
    }
   ],
   "source": [
    "print(len(ans_list))"
   ]
  },
  {
   "cell_type": "code",
   "execution_count": 283,
   "id": "598ba12e-85d3-466e-b0b5-8694875dcbab",
   "metadata": {},
   "outputs": [],
   "source": [
    "def num_to_label(label):\n",
    "    num_label = []\n",
    "    with open('dict_num_to_label.pkl', 'rb') as f:\n",
    "        dict_num_to_label = pickle.load(f)\n",
    "    for v in label:\n",
    "        num_label.append(dict_num_to_label[v.index(max(v))])\n",
    "    \n",
    "    return num_label\n"
   ]
  },
  {
   "cell_type": "code",
   "execution_count": 284,
   "id": "acbaad61-7b23-4f91-8eee-28ae92c1b57a",
   "metadata": {},
   "outputs": [
    {
     "name": "stdout",
     "output_type": "stream",
     "text": [
      "{0: 'no_relation', 1: 'org:top_members/employees', 2: 'org:members', 3: 'org:product', 4: 'per:title', 5: 'org:alternate_names', 6: 'per:employee_of', 7: 'org:place_of_headquarters', 8: 'per:product', 9: 'org:number_of_employees/members', 10: 'per:children', 11: 'per:place_of_residence', 12: 'per:alternate_names', 13: 'per:other_family', 14: 'per:colleagues', 15: 'per:origin', 16: 'per:siblings', 17: 'per:spouse', 18: 'org:founded', 19: 'org:political/religious_affiliation', 20: 'org:member_of', 21: 'per:parents', 22: 'org:dissolved', 23: 'per:schools_attended', 24: 'per:date_of_death', 25: 'per:date_of_birth', 26: 'per:place_of_birth', 27: 'per:place_of_death', 28: 'org:founded_by', 29: 'per:religion'}\n"
     ]
    }
   ],
   "source": [
    "print(dict_num_to_label)"
   ]
  },
  {
   "cell_type": "code",
   "execution_count": 285,
   "id": "9182d69f-089e-47ee-b0c6-884c8adff2c0",
   "metadata": {},
   "outputs": [
    {
     "name": "stdout",
     "output_type": "stream",
     "text": [
      "['org:product', 'per:alternate_names', 'no_relation', 'no_relation', 'org:top_members/employees', 'no_relation', 'per:employee_of', 'per:spouse', 'org:members', 'org:top_members/employees']\n"
     ]
    }
   ],
   "source": [
    "pred_list = num_to_label(ans_list)\n",
    "print(pred_list[:10])"
   ]
  },
  {
   "cell_type": "code",
   "execution_count": 286,
   "id": "e2973b3c-1348-4092-98d7-1640aab8cb29",
   "metadata": {},
   "outputs": [
    {
     "name": "stdout",
     "output_type": "stream",
     "text": [
      "        id                 pred_label  \\\n",
      "0        0                org:product   \n",
      "1        1        per:alternate_names   \n",
      "2        2                no_relation   \n",
      "3        3                no_relation   \n",
      "4        4  org:top_members/employees   \n",
      "...    ...                        ...   \n",
      "7760  7760  org:place_of_headquarters   \n",
      "7761  7761                no_relation   \n",
      "7762  7762  org:top_members/employees   \n",
      "7763  7763                no_relation   \n",
      "7764  7764                no_relation   \n",
      "\n",
      "                                                  probs  \n",
      "0     [0.21555605563256752, 0.013468074777991118, 0....  \n",
      "1     [0.13263687441873015, 0.0020545796129636863, 0...  \n",
      "2     [0.9257054672601936, 0.0006835632593348435, 0....  \n",
      "3     [0.7139852523584492, 0.0009749412559708268, 0....  \n",
      "4     [0.47475745535964, 0.500236560745906, 0.002538...  \n",
      "...                                                 ...  \n",
      "7760  [0.35729131899439626, 0.00522083973391591, 0.0...  \n",
      "7761  [0.938392237346369, 0.004301169003486606, 0.00...  \n",
      "7762  [0.025181469375124405, 0.9563540725060757, 0.0...  \n",
      "7763  [0.8159973520251725, 0.0010411169102321368, 0....  \n",
      "7764  [0.9414282165105583, 0.002687769352884897, 0.0...  \n",
      "\n",
      "[7765 rows x 3 columns]\n"
     ]
    }
   ],
   "source": [
    "submission = pd.read_csv('info.csv')\n",
    "submission['pred_label'] = pred_list\n",
    "submission['probs'] = ans_list\n",
    "print(submission)\n",
    "\n",
    "submission.to_csv('./soft_voting.csv', index=False)"
   ]
  }
 ],
 "metadata": {
  "kernelspec": {
   "display_name": "Python 3 (ipykernel)",
   "language": "python",
   "name": "python3"
  },
  "language_info": {
   "codemirror_mode": {
    "name": "ipython",
    "version": 3
   },
   "file_extension": ".py",
   "mimetype": "text/x-python",
   "name": "python",
   "nbconvert_exporter": "python",
   "pygments_lexer": "ipython3",
   "version": "3.8.5"
  },
  "toc": {
   "base_numbering": 1,
   "nav_menu": {},
   "number_sections": true,
   "sideBar": true,
   "skip_h1_title": false,
   "title_cell": "Table of Contents",
   "title_sidebar": "Contents",
   "toc_cell": false,
   "toc_position": {},
   "toc_section_display": true,
   "toc_window_display": false
  }
 },
 "nbformat": 4,
 "nbformat_minor": 5
}
