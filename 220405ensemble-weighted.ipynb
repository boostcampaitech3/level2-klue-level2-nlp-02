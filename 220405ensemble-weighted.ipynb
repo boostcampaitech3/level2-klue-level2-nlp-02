{
 "cells": [
  {
   "cell_type": "code",
   "execution_count": 42,
   "id": "c0708766-cd19-456e-a9ce-5b001dbfa21d",
   "metadata": {},
   "outputs": [],
   "source": [
    "import numpy as np\n",
    "import pandas as pd\n",
    "from glob import glob\n",
    "import pickle as pickle"
   ]
  },
  {
   "cell_type": "code",
   "execution_count": 43,
   "id": "44d47567-95be-462b-902d-7a03aeb9cd88",
   "metadata": {},
   "outputs": [
    {
     "name": "stdout",
     "output_type": "stream",
     "text": [
      "/opt/ml/week12\n"
     ]
    }
   ],
   "source": [
    "!pwd"
   ]
  },
  {
   "cell_type": "code",
   "execution_count": 45,
   "id": "952edadb-19a3-47a1-a3ee-052fe7bb4895",
   "metadata": {},
   "outputs": [
    {
     "name": "stdout",
     "output_type": "stream",
     "text": [
      "5\n",
      "['/opt/ml/week12/submission_csv/output (2).csv', '/opt/ml/week12/submission_csv/output (4).csv', '/opt/ml/week12/submission_csv/output (0).csv', '/opt/ml/week12/submission_csv/output (1).csv', '/opt/ml/week12/submission_csv/output (3).csv']\n",
      "['/opt/ml/week12/submission_csv/output (0).csv', '/opt/ml/week12/submission_csv/output (1).csv', '/opt/ml/week12/submission_csv/output (2).csv', '/opt/ml/week12/submission_csv/output (3).csv', '/opt/ml/week12/submission_csv/output (4).csv']\n"
     ]
    }
   ],
   "source": [
    "# csv 파일들 저장한 위치\n",
    "outputs = glob('/opt/ml/week12/submission_csv/*')\n",
    "print(len(outputs))\n",
    "print(outputs)\n",
    "outputs.sort()\n",
    "print(outputs)"
   ]
  },
  {
   "cell_type": "code",
   "execution_count": 46,
   "id": "9b2bc3af-7a35-40c7-be1d-23785566af73",
   "metadata": {},
   "outputs": [
    {
     "data": {
      "text/plain": [
       "(7765, 5)"
      ]
     },
     "execution_count": 46,
     "metadata": {},
     "output_type": "execute_result"
    }
   ],
   "source": [
    "new_input = list()\n",
    "for output in outputs:\n",
    "    df = pd.read_csv(output)\n",
    "    new_input.append(list(df['probs']))\n",
    "new_input = np.transpose(new_input)\n",
    "new_input.shape"
   ]
  },
  {
   "cell_type": "code",
   "execution_count": 47,
   "id": "7c9c31c1-d239-43a2-8528-0ac6b1499992",
   "metadata": {},
   "outputs": [
    {
     "name": "stdout",
     "output_type": "stream",
     "text": [
      "['[0.24894411861896515, 0.007752744015306234, 0.2770920693874359, 0.38045698404312134, 0.0012986889341846108, 0.04027523100376129, 0.0016041945200413465, 0.005659749731421471, 0.0027415191289037466, 0.0015097192954272032, 0.0017447725404053926, 0.0008306267554871738, 0.0014741503400728106, 0.001041592564433813, 0.0008792011649347842, 0.0007417436572723091, 0.0008602904854342341, 0.0010521477088332176, 0.0020620953291654587, 0.005215380806475878, 0.0073761832900345325, 0.0007947396370582283, 0.001030324841849506, 0.0006090597598813474, 0.0007137858774513006, 0.0008626635535620153, 0.0006184927187860012, 0.0007054625893943012, 0.002912685042247176, 0.001139574102126062]'\n",
      " '[0.12801491220792136, 0.007909909097684754, 0.05959711306624942, 0.18994650355091802, 0.00040922262835212884, 0.06798597990914627, 0.00031567701780996113, 0.005927738362785291, 0.003783698987077784, 0.0008757016039453447, 0.0001590255005457611, 3.133156779868942e-05, 0.00038797182194819606, 8.165623714578235e-05, 9.43007158908855e-05, 5.616853310062585e-05, 7.015457473850499e-05, 0.00010546167807963987, 0.0013035044367252675, 0.002006395288777572, 0.00878383822877098, 9.450902601841977e-05, 0.0004763040277693007, 0.00011944664260631222, 5.3783440779187485e-05, 6.937931229239675e-05, 3.933827139445822e-05, 6.913875512071643e-05, 0.0025147285260674027, 0.00019859734230623065]'\n",
      " '[0.19214898347854614, 0.032907623797655106, 0.4188343286514282, 0.23862069845199585, 0.0008132646908052266, 0.05922769010066986, 0.00149414106272161, 0.010043475776910782, 0.0016108924755826592, 0.001875080168247223, 0.0032726579811424017, 0.0011261049658060074, 0.0015137922018766403, 0.0011397463968023658, 0.0005861241370439529, 0.0008615252445451915, 0.0012710965238511562, 0.001071625854820013, 0.001593244494870305, 0.009954173117876053, 0.010475768707692623, 0.0006985999061726034, 0.000842052570078522, 0.0006586078088730574, 0.0005448680021800101, 0.0008414549520239234, 0.0006644421373493969, 0.0008421894744969904, 0.0035895039327442646, 0.0008762889774516225]'\n",
      " '[0.13990938663482666, 0.00210854085162282, 0.06078583374619484, 0.7755243182182312, 0.0002499772817827761, 0.008537189103662968, 0.00019703165162354708, 0.002005872083827853, 0.001030782237648964, 0.00031553831649944186, 0.00046187976840883493, 0.00015816846280358732, 0.0002515652449801564, 0.0002627563662827015, 0.0002916627563536167, 0.00011532476491993293, 0.0002935922530014068, 0.00015380281547550112, 0.0005051611224189401, 0.001781004830263555, 0.0023023749236017466, 0.00018594741413835436, 0.00043970331898890436, 0.0001986735878745094, 0.0002273261925438419, 0.0002523606235627085, 0.00024380889954045415, 0.00032051283051259816, 0.0006872776430100203, 0.00020247948123142123]'\n",
      " '[0.2846234440803528, 0.017630932852625847, 0.10798508673906326, 0.5260043740272522, 0.0013863160274922848, 0.025481820106506348, 0.0025692430790513754, 0.003848270745947957, 0.004039749503135681, 0.0008809725404717028, 0.0011439963709563017, 0.0008281884365715086, 0.0014589085476472974, 0.000735273293685168, 0.0008651854004710913, 0.0007104702526703477, 0.0006867600022815168, 0.0006710488814860582, 0.000869634619448334, 0.001975727966055274, 0.006739497184753418, 0.0010243385331705213, 0.0006452829693444073, 0.0005305415252223611, 0.0007372259278781712, 0.0008224028279073536, 0.0003968018863815814, 0.0005101950955577195, 0.0036493137013167143, 0.0005490261246450245]']\n",
      "<class 'numpy.ndarray'>\n"
     ]
    }
   ],
   "source": [
    "print(new_input[0])\n",
    "print(type(new_input[0]))"
   ]
  },
  {
   "cell_type": "code",
   "execution_count": 48,
   "id": "d75f571b-91e1-4ad8-b903-5194db5bcf5c",
   "metadata": {},
   "outputs": [
    {
     "data": {
      "text/plain": [
       "7765"
      ]
     },
     "execution_count": 48,
     "metadata": {},
     "output_type": "execute_result"
    }
   ],
   "source": [
    "len(new_input)"
   ]
  },
  {
   "cell_type": "code",
   "execution_count": 53,
   "id": "c42f2c86-2f3c-4a7b-b97a-65a54093cf17",
   "metadata": {},
   "outputs": [
    {
     "name": "stdout",
     "output_type": "stream",
     "text": [
      "[0.22582531584966245, 0.015007253377179517, 0.2277596063961562, 0.4408143257465458, 0.000981364731356333, 0.04756279462718774, 0.0014038082920166878, 0.006438258490189151, 0.002970101860330164, 0.0013194407493582663, 0.001618577271256927, 0.0007013990162045812, 0.0012040936967151225, 0.0007882429513137562, 0.0006397462132118372, 0.0005912759892322435, 0.0007513419287482746, 0.000752903290124552, 0.0015667478341409686, 0.00504350107974484, 0.008280119598947118, 0.000645563815511302, 0.0008206602124121764, 0.0004995381704042496, 0.0005339457404636336, 0.0006718889111881483, 0.0004712920672500716, 0.0005785334579106046, 0.0030629185005138036, 0.0007470854510135074]\n",
      "1.0000516453162902\n",
      "[0.12700256047782602, 0.002113876322642168, 0.0007719272316275551, 0.0012837725371482977, 0.3321487401178217, 0.008936030118141152, 0.01057293973822714, 0.0009012652448832594, 0.004924086522782623, 0.0004957611073996578, 0.003004333762080324, 0.002032741874912854, 0.45468133603918737, 0.002134453814948764, 0.0030870982713497425, 0.007264399518573929, 0.002058252216049712, 0.013834837473591401, 0.0010364432225655317, 0.0003673832506632029, 0.001440490906172644, 0.009686348886583221, 0.0003987218547097962, 0.0007418713391215314, 0.000952935791171033, 0.0026809295855496802, 0.0032939532411570167, 0.000607239974461955, 0.0007321902496178417, 0.0008647367743793241]\n",
      "1.0000516574653466\n"
     ]
    }
   ],
   "source": [
    "\n",
    "# 각 csv 파일의 같은 문장에 대한 확률값 모두 뽑아오기\n",
    "ans_list = list()\n",
    "for row_data in new_input:\n",
    "    # str로 뭉쳐져 있는 데이터를 np로 split\n",
    "    row_data = np.split(row_data, len(row_data))\n",
    "    \n",
    "    # 클래스 갯수는 30개\n",
    "    class_num = 30\n",
    "    \n",
    "    # 들어온 csv 파일 갯수는 5개\n",
    "    csv_num = 5\n",
    "    weighted = [3, 2, 2, 1.5, 1.5]\n",
    "    \n",
    "    # 30개 클래스 값을 단순 누적으로 더할 list 선언\n",
    "    temp_list = [0] * class_num\n",
    "    # n개의 csv 파일에 대해 탐색\n",
    "    for i in range(len(row_data)):\n",
    "        # str 데이터를 list 형태로 변환\n",
    "        temp_data = row_data[i][0].replace('[', '').replace(']', '').strip().split(', ')\n",
    "        # 각 값마다 알맞은 class의 확률 값에 더해줌\n",
    "        for idx, temp in enumerate(temp_data):\n",
    "            # weighted 값에 맞춰서 계산\n",
    "            temp_list[idx] += (float(temp) * weighted[i])\n",
    "    \n",
    "    # 단순 누적한 합을 csv파일 갯수로 나누어 평균을 구함.\n",
    "    row_len = len(row_data)\n",
    "    for i in range(class_num):\n",
    "        temp_list[i] /= (row_len * 1.7925)\n",
    "    \n",
    "    ans_list.append(temp_list[:])\n",
    "\n",
    "for i in range(2):\n",
    "    print(ans_list[i])\n",
    "    print(sum(ans_list[i]))\n",
    "        \n",
    "        "
   ]
  },
  {
   "cell_type": "code",
   "execution_count": 54,
   "id": "6998e830-95be-4b81-8bee-214b862b1a8e",
   "metadata": {},
   "outputs": [
    {
     "name": "stdout",
     "output_type": "stream",
     "text": [
      "7765\n"
     ]
    }
   ],
   "source": [
    "print(len(ans_list))"
   ]
  },
  {
   "cell_type": "code",
   "execution_count": 55,
   "id": "598ba12e-85d3-466e-b0b5-8694875dcbab",
   "metadata": {},
   "outputs": [],
   "source": [
    "def num_to_label(label):\n",
    "    num_label = []\n",
    "    with open('dict_num_to_label.pkl', 'rb') as f:\n",
    "        dict_num_to_label = pickle.load(f)\n",
    "    for v in label:\n",
    "        num_label.append(dict_num_to_label[v.index(max(v))])\n",
    "    \n",
    "    return num_label\n"
   ]
  },
  {
   "cell_type": "code",
   "execution_count": 57,
   "id": "3fd34534-cc4e-4bc3-ba49-8ab863e2ca17",
   "metadata": {},
   "outputs": [],
   "source": [
    "with open('dict_num_to_label.pkl', 'rb') as f:\n",
    "        dict_num_to_label = pickle.load(f)"
   ]
  },
  {
   "cell_type": "code",
   "execution_count": 39,
   "id": "acbaad61-7b23-4f91-8eee-28ae92c1b57a",
   "metadata": {},
   "outputs": [
    {
     "name": "stdout",
     "output_type": "stream",
     "text": [
      "{0: 'no_relation', 1: 'org:top_members/employees', 2: 'org:members', 3: 'org:product', 4: 'per:title', 5: 'org:alternate_names', 6: 'per:employee_of', 7: 'org:place_of_headquarters', 8: 'per:product', 9: 'org:number_of_employees/members', 10: 'per:children', 11: 'per:place_of_residence', 12: 'per:alternate_names', 13: 'per:other_family', 14: 'per:colleagues', 15: 'per:origin', 16: 'per:siblings', 17: 'per:spouse', 18: 'org:founded', 19: 'org:political/religious_affiliation', 20: 'org:member_of', 21: 'per:parents', 22: 'org:dissolved', 23: 'per:schools_attended', 24: 'per:date_of_death', 25: 'per:date_of_birth', 26: 'per:place_of_birth', 27: 'per:place_of_death', 28: 'org:founded_by', 29: 'per:religion'}\n"
     ]
    }
   ],
   "source": [
    "print(dict_num_to_label)"
   ]
  },
  {
   "cell_type": "code",
   "execution_count": 58,
   "id": "9182d69f-089e-47ee-b0c6-884c8adff2c0",
   "metadata": {},
   "outputs": [
    {
     "name": "stdout",
     "output_type": "stream",
     "text": [
      "['org:product', 'per:alternate_names', 'no_relation', 'no_relation', 'org:top_members/employees', 'no_relation', 'per:employee_of', 'per:spouse', 'org:members', 'org:top_members/employees']\n"
     ]
    }
   ],
   "source": [
    "pred_list = num_to_label(ans_list)\n",
    "print(pred_list[:10])"
   ]
  },
  {
   "cell_type": "code",
   "execution_count": 59,
   "id": "e2973b3c-1348-4092-98d7-1640aab8cb29",
   "metadata": {},
   "outputs": [
    {
     "name": "stdout",
     "output_type": "stream",
     "text": [
      "        id                 pred_label  \\\n",
      "0        0                org:product   \n",
      "1        1        per:alternate_names   \n",
      "2        2                no_relation   \n",
      "3        3                no_relation   \n",
      "4        4  org:top_members/employees   \n",
      "...    ...                        ...   \n",
      "7760  7760  org:place_of_headquarters   \n",
      "7761  7761                no_relation   \n",
      "7762  7762  org:top_members/employees   \n",
      "7763  7763                no_relation   \n",
      "7764  7764                no_relation   \n",
      "\n",
      "                                                  probs  \n",
      "0     [0.22582531584966245, 0.015007253377179517, 0....  \n",
      "1     [0.12700256047782602, 0.002113876322642168, 0....  \n",
      "2     [0.9320554365531196, 0.0006674035785141398, 0....  \n",
      "3     [0.7182018994188941, 0.001007391571958859, 0.0...  \n",
      "4     [0.47296965902419036, 0.5059286820087386, 0.00...  \n",
      "...                                                 ...  \n",
      "7760  [0.36304626276907, 0.00546438879662447, 0.0125...  \n",
      "7761  [0.9386802043567002, 0.004537469206312534, 0.0...  \n",
      "7762  [0.023005563313356698, 0.9602802565437842, 0.0...  \n",
      "7763  [0.8223868788344731, 0.0010178884325544291, 0....  \n",
      "7764  [0.9433252325333361, 0.002735710577130336, 0.0...  \n",
      "\n",
      "[7765 rows x 3 columns]\n"
     ]
    }
   ],
   "source": [
    "submission = pd.read_csv('info.csv')\n",
    "submission['pred_label'] = pred_list\n",
    "submission['probs'] = ans_list\n",
    "print(submission)\n",
    "\n",
    "submission.to_csv('./soft_voting.csv', index=False)"
   ]
  }
 ],
 "metadata": {
  "kernelspec": {
   "display_name": "Python 3 (ipykernel)",
   "language": "python",
   "name": "python3"
  },
  "language_info": {
   "codemirror_mode": {
    "name": "ipython",
    "version": 3
   },
   "file_extension": ".py",
   "mimetype": "text/x-python",
   "name": "python",
   "nbconvert_exporter": "python",
   "pygments_lexer": "ipython3",
   "version": "3.8.5"
  },
  "toc": {
   "base_numbering": 1,
   "nav_menu": {},
   "number_sections": true,
   "sideBar": true,
   "skip_h1_title": false,
   "title_cell": "Table of Contents",
   "title_sidebar": "Contents",
   "toc_cell": false,
   "toc_position": {},
   "toc_section_display": true,
   "toc_window_display": false
  }
 },
 "nbformat": 4,
 "nbformat_minor": 5
}
